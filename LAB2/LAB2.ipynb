{
  "nbformat": 4,
  "nbformat_minor": 0,
  "metadata": {
    "colab": {
      "name": "LAB2.ipynb",
      "provenance": [],
      "mount_file_id": "1FMyvcMRqUmH5Ho_SUi59usyesGTJBm2H",
      "authorship_tag": "ABX9TyPo1scy7xCD7MVLtFBokf+A",
      "include_colab_link": true
    },
    "kernelspec": {
      "name": "python3",
      "display_name": "Python 3"
    },
    "language_info": {
      "name": "python"
    }
  },
  "cells": [
    {
      "cell_type": "markdown",
      "metadata": {
        "id": "view-in-github",
        "colab_type": "text"
      },
      "source": [
        "<a href=\"https://colab.research.google.com/github/vishant016/140_VISHANT/blob/main/LAB2/LAB2.ipynb\" target=\"_parent\"><img src=\"https://colab.research.google.com/assets/colab-badge.svg\" alt=\"Open In Colab\"/></a>"
      ]
    },
    {
      "cell_type": "code",
      "metadata": {
        "colab": {
          "base_uri": "https://localhost:8080/"
        },
        "id": "--ParEB1If0g",
        "outputId": "f19a7e4d-de0a-4ef9-c15d-924689760a35"
      },
      "source": [
        "# Step 1: Import Libraries\n",
        "import numpy as np \n",
        "import pandas as pd\n",
        "from sklearn.preprocessing import MinMaxScaler, StandardScaler\n",
        "from sklearn.impute import SimpleImputer \n",
        "        \n",
        "\n",
        "# Step 2: Load Data        \n",
        "datasets = pd.read_csv('/content/drive/MyDrive/ML/Dataset/Exercise-CarData.csv') \n",
        "# print(\"\\nData :\\n\",datasets)\n",
        "\n",
        "# Step 3: Seprate Input and Output attributes\n",
        "\n",
        "# All rows, all columns except last \n",
        "X = datasets.iloc[:, :-1].values \n",
        "  \n",
        "# Only last column  \n",
        "Y = datasets.iloc[:, -1].values \n",
        "\n",
        "\n",
        "print(\"\\n\\nInput : \\n\", X) \n",
        "print(\"\\n\\nOutput: \\n\", Y) "
      ],
      "execution_count": 12,
      "outputs": [
        {
          "output_type": "stream",
          "text": [
            "\n",
            "\n",
            "Input : \n",
            " [[0 13500 23.0 ... 0 2000 'three']\n",
            " [1 13750 23.0 ... 0 2000 '3']\n",
            " [2 13950 24.0 ... 0 2000 '3']\n",
            " ...\n",
            " [1433 8500 nan ... 0 1300 '3']\n",
            " [1434 7250 70.0 ... 0 1300 '3']\n",
            " [1435 6950 76.0 ... 0 1600 '5']]\n",
            "\n",
            "\n",
            "Output: \n",
            " [1165 1165 1165 ... 1015 1015 1114]\n"
          ],
          "name": "stdout"
        }
      ]
    },
    {
      "cell_type": "code",
      "metadata": {
        "colab": {
          "base_uri": "https://localhost:8080/"
        },
        "id": "P-e5WhkVPB7N",
        "outputId": "9175e296-0acf-4116-dd35-2ad75040ec4e"
      },
      "source": [
        "# Step 4: Find the missing values and handle it in either way\n",
        "\n",
        "# 4a. Removing the row with all null values\n",
        "\n",
        "datasets.dropna(how='all',inplace=True)\n",
        "print(\"\\nNew Data :\\n\",datasets.MetColor)"
      ],
      "execution_count": 10,
      "outputs": [
        {
          "output_type": "stream",
          "text": [
            "\n",
            "New Data :\n",
            " 0       1.0\n",
            "1       1.0\n",
            "2       NaN\n",
            "3       0.0\n",
            "4       0.0\n",
            "       ... \n",
            "1431    1.0\n",
            "1432    0.0\n",
            "1433    0.0\n",
            "1434    1.0\n",
            "1435    0.0\n",
            "Name: MetColor, Length: 1436, dtype: float64\n"
          ],
          "name": "stdout"
        }
      ]
    },
    {
      "cell_type": "code",
      "metadata": {
        "colab": {
          "base_uri": "https://localhost:8080/"
        },
        "id": "3SM_x07aPvnG",
        "outputId": "0baa4bb5-dd44-4a3f-880d-01302b4031ac"
      },
      "source": [
        "# 4b. Imputation (Replacing null values with most_frequent  value of that attribute)\n",
        "\n",
        "# All rows, all columns except last \n",
        "new_X = datasets.iloc[:, :-1].values \n",
        "  \n",
        "# Only last column  \n",
        "new_Y = datasets.iloc[:, -1].values \n",
        "\n",
        "new_X[2]\n",
        "\n",
        "imputer = SimpleImputer(missing_values = np.nan,strategy =\"most_frequent\")\n",
        "\n",
        "# Fitting the data, function learns the stats \n",
        "imputer = imputer.fit(new_X[:, 1:7]) \n",
        "  \n",
        "# fit_transform() will execute those stats on the input ie. X[:, 1:7] \n",
        "new_X[:, 1:7] = imputer.transform(new_X[:,1: 7]) \n",
        "  \n",
        "# filling the missing value with most frequent \n",
        "# print(\"\\n\\nNew Input with most frequent  Value for NaN : \\n\\n\", new_X) \n",
        "print(\"Most frequent in MetColor\",new_X[2])\n",
        "print(\"Most frequent in FuelType\",new_X[7])\n"
      ],
      "execution_count": 36,
      "outputs": [
        {
          "output_type": "stream",
          "text": [
            "Most frequent in MetColor [2 13950 24.0 '41711' 'Diesel' '90' 1.0 0 2000 '3']\n",
            "Most frequent in FuelType [7 18600 30.0 '75889' 'Petrol' '90' 1.0 0 2000 '3']\n"
          ],
          "name": "stdout"
        }
      ]
    }
  ]
}