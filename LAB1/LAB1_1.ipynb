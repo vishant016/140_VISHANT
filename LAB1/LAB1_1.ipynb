{
  "nbformat": 4,
  "nbformat_minor": 0,
  "metadata": {
    "colab": {
      "name": "LAB1_1.ipynb",
      "provenance": [],
      "mount_file_id": "1S8Xm1uNv1jvblZsgQI7WPJ3Koi8ZwdaB",
      "authorship_tag": "ABX9TyPxY7d3sA29wqd9qiXLVYPB",
      "include_colab_link": true
    },
    "kernelspec": {
      "name": "python3",
      "display_name": "Python 3"
    },
    "language_info": {
      "name": "python"
    }
  },
  "cells": [
    {
      "cell_type": "markdown",
      "metadata": {
        "id": "view-in-github",
        "colab_type": "text"
      },
      "source": [
        "<a href=\"https://colab.research.google.com/github/vishant016/140_VISHANT/blob/main/LAB1/LAB1_1.ipynb\" target=\"_parent\"><img src=\"https://colab.research.google.com/assets/colab-badge.svg\" alt=\"Open In Colab\"/></a>"
      ]
    },
    {
      "cell_type": "code",
      "metadata": {
        "colab": {
          "base_uri": "https://localhost:8080/",
          "height": 638
        },
        "id": "WF8VfNaTqK8P",
        "outputId": "f7cd44bd-16f8-484c-e18c-024086a32e12"
      },
      "source": [
        "import pandas as pd\n",
        "import matplotlib.pyplot as plt\n",
        "import nltk, scipy, pandas, numpy\n",
        "nltk.download('twitter_samples')\n",
        "from nltk.corpus import twitter_samples\n",
        "import matplotlib.pyplot as plt\n",
        "\n",
        "positive=twitter_samples.strings('positive_tweets.json')\n",
        "negative=twitter_samples.strings('negative_tweets.json')\n",
        "\n",
        "print(f\"Number of positive Tweets:{len(positive)}\")\n",
        "print(f\"Number of negative Tweets:{len(negative)}\")\n",
        "\n",
        "\n",
        "\n",
        "labels='Positive','Negative'\n",
        "size=[len(positive),len(negative)]\n",
        "plt.pie(size, labels=labels, autopct='%1.1f%%',shadow=True, startangle=90)\n",
        "plt.axis('equal')\n",
        "\n",
        "plt.show()\n",
        "\n",
        "# print('\\033[92m'+positive[0])\n",
        "# print('\\033[91m'+negative[0])\n",
        "\n",
        "nltk.download('stopwords')\n",
        "\n",
        "import re\n",
        "import string\n",
        "\n",
        "from nltk.corpus import stopwords\n",
        "from nltk.stem import PorterStemmer\n",
        "from nltk.tokenize import TweetTokenizer\n",
        "\n",
        "tweet=positive[2277]\n",
        "print(f'\\nOriginal :{tweet}')\n",
        "\n",
        "tweet2=re.sub(r'https?:\\/\\/.*[\\r\\n]*','',tweet)\n",
        "print(f'\\nURLs removed :{tweet2}')\n",
        "\n",
        "tweet2=re.sub(r'#','',tweet2)\n",
        "print(f'\\nHashtags removed :{tweet2}')\n",
        "\n",
        "\n",
        "#Tokenizer\n",
        "\n",
        "tokenizer=TweetTokenizer(preserve_case=False)\n",
        "\n",
        "tweet_tokens=tokenizer.tokenize(tweet2)\n",
        "print(f'\\n Tokens:{tweet_tokens}')\n",
        "\n",
        "stopwords_english=stopwords.words('english')\n",
        "\n",
        "print(f'\\nEnglish StopWords:{stopwords_english}')\n",
        "\n",
        "tweet_clean=[]\n",
        "\n",
        "for word in tweet_tokens:\n",
        "    if(word not in stopwords_english and word not in string.punctuation):\n",
        "        tweet_clean.append(word)\n",
        "\n",
        "print(f'\\nRemoved StopWords and Punctions:{tweet_clean}')\n",
        "\n",
        "#Stemming: Bringing to its root form \n",
        "#learning,learned,learnt ---> learn\n",
        "\n",
        "stemmer=PorterStemmer()\n",
        "\n",
        "tweet_stem=[]\n",
        "\n",
        "for word in tweet_clean:\n",
        "    stem_word=stemmer.stem(word)\n",
        "    tweet_stem.append(stem_word)\n",
        "print(f'\\nStemmed Words:{tweet_stem}')\n",
        "\n",
        "\n"
      ],
      "execution_count": 4,
      "outputs": [
        {
          "output_type": "stream",
          "name": "stdout",
          "text": [
            "[nltk_data] Downloading package twitter_samples to /root/nltk_data...\n",
            "[nltk_data]   Package twitter_samples is already up-to-date!\n",
            "Number of positive Tweets:5000\n",
            "Number of negative Tweets:5000\n"
          ]
        },
        {
          "output_type": "display_data",
          "data": {
            "image/png": "[encoded data removed]",
            "text/plain": [
              "<Figure size 432x288 with 1 Axes>"
            ]
          },
          "metadata": {}
        },
        {
          "output_type": "stream",
          "name": "stdout",
          "text": [
            "[nltk_data] Downloading package stopwords to /root/nltk_data...\n",
            "[nltk_data]   Package stopwords is already up-to-date!\n",
            "\n",
            "Original :My beautiful sunflowers on a sunny Friday morning off :) #sunflowers #favourites #happy #Friday off… https://t.co/3tfYom0N1i\n",
            "\n",
            "URLs removed :My beautiful sunflowers on a sunny Friday morning off :) #sunflowers #favourites #happy #Friday off… \n",
            "\n",
            "Hashtags removed :My beautiful sunflowers on a sunny Friday morning off :) sunflowers favourites happy Friday off… \n",
            "\n",
            " Tokens:['my', 'beautiful', 'sunflowers', 'on', 'a', 'sunny', 'friday', 'morning', 'off', ':)', 'sunflowers', 'favourites', 'happy', 'friday', 'off', '…']\n",
            "\n",
            "English StopWords:['i', 'me', 'my', 'myself', 'we', 'our', 'ours', 'ourselves', 'you', \"you're\", \"you've\", \"you'll\", \"you'd\", 'your', 'yours', 'yourself', 'yourselves', 'he', 'him', 'his', 'himself', 'she', \"she's\", 'her', 'hers', 'herself', 'it', \"it's\", 'its', 'itself', 'they', 'them', 'their', 'theirs', 'themselves', 'what', 'which', 'who', 'whom', 'this', 'that', \"that'll\", 'these', 'those', 'am', 'is', 'are', 'was', 'were', 'be', 'been', 'being', 'have', 'has', 'had', 'having', 'do', 'does', 'did', 'doing', 'a', 'an', 'the', 'and', 'but', 'if', 'or', 'because', 'as', 'until', 'while', 'of', 'at', 'by', 'for', 'with', 'about', 'against', 'between', 'into', 'through', 'during', 'before', 'after', 'above', 'below', 'to', 'from', 'up', 'down', 'in', 'out', 'on', 'off', 'over', 'under', 'again', 'further', 'then', 'once', 'here', 'there', 'when', 'where', 'why', 'how', 'all', 'any', 'both', 'each', 'few', 'more', 'most', 'other', 'some', 'such', 'no', 'nor', 'not', 'only', 'own', 'same', 'so', 'than', 'too', 'very', 's', 't', 'can', 'will', 'just', 'don', \"don't\", 'should', \"should've\", 'now', 'd', 'll', 'm', 'o', 're', 've', 'y', 'ain', 'aren', \"aren't\", 'couldn', \"couldn't\", 'didn', \"didn't\", 'doesn', \"doesn't\", 'hadn', \"hadn't\", 'hasn', \"hasn't\", 'haven', \"haven't\", 'isn', \"isn't\", 'ma', 'mightn', \"mightn't\", 'mustn', \"mustn't\", 'needn', \"needn't\", 'shan', \"shan't\", 'shouldn', \"shouldn't\", 'wasn', \"wasn't\", 'weren', \"weren't\", 'won', \"won't\", 'wouldn', \"wouldn't\"]\n",
            "\n",
            "Removed StopWords and Punctions:['beautiful', 'sunflowers', 'sunny', 'friday', 'morning', ':)', 'sunflowers', 'favourites', 'happy', 'friday', '…']\n",
            "\n",
            "Stemmed Words:['beauti', 'sunflow', 'sunni', 'friday', 'morn', ':)', 'sunflow', 'favourit', 'happi', 'friday', '…']\n"
          ]
        }
      ]
    },
    {
      "cell_type": "markdown",
      "metadata": {
        "id": "Tyt5dJqfApDa"
      },
      "source": [
        "**Preprocessing on IMDB dataset**"
      ]
    },
    {
      "cell_type": "code",
      "metadata": {
        "colab": {
          "base_uri": "https://localhost:8080/",
          "height": 424
        },
        "id": "4c5PdKQsA5YX",
        "outputId": "1bbc443f-4c87-41c0-c468-d17b467e94fe"
      },
      "source": [
        "data=pd.read_csv('/content/drive/MyDrive/ML/Dataset/IMDB Dataset.csv')\n",
        "data"
      ],
      "execution_count": 5,
      "outputs": [
        {
          "output_type": "execute_result",
          "data": {
            "text/html": [
              "<div>\n",
              "<style scoped>\n",
              "    .dataframe tbody tr th:only-of-type {\n",
              "        vertical-align: middle;\n",
              "    }\n",
              "\n",
              "    .dataframe tbody tr th {\n",
              "        vertical-align: top;\n",
              "    }\n",
              "\n",
              "    .dataframe thead th {\n",
              "        text-align: right;\n",
              "    }\n",
              "</style>\n",
              "<table border=\"1\" class=\"dataframe\">\n",
              "  <thead>\n",
              "    <tr style=\"text-align: right;\">\n",
              "      <th></th>\n",
              "      <th>review</th>\n",
              "      <th>sentiment</th>\n",
              "    </tr>\n",
              "  </thead>\n",
              "  <tbody>\n",
              "    <tr>\n",
              "      <th>0</th>\n",
              "      <td>One of the other reviewers has mentioned that ...</td>\n",
              "      <td>positive</td>\n",
              "    </tr>\n",
              "    <tr>\n",
              "      <th>1</th>\n",
              "      <td>A wonderful little production. &lt;br /&gt;&lt;br /&gt;The...</td>\n",
              "      <td>positive</td>\n",
              "    </tr>\n",
              "    <tr>\n",
              "      <th>2</th>\n",
              "      <td>I thought this was a wonderful way to spend ti...</td>\n",
              "      <td>positive</td>\n",
              "    </tr>\n",
              "    <tr>\n",
              "      <th>3</th>\n",
              "      <td>Basically there's a family where a little boy ...</td>\n",
              "      <td>negative</td>\n",
              "    </tr>\n",
              "    <tr>\n",
              "      <th>4</th>\n",
              "      <td>Petter Mattei's \"Love in the Time of Money\" is...</td>\n",
              "      <td>positive</td>\n",
              "    </tr>\n",
              "    <tr>\n",
              "      <th>...</th>\n",
              "      <td>...</td>\n",
              "      <td>...</td>\n",
              "    </tr>\n",
              "    <tr>\n",
              "      <th>49995</th>\n",
              "      <td>I thought this movie did a down right good job...</td>\n",
              "      <td>positive</td>\n",
              "    </tr>\n",
              "    <tr>\n",
              "      <th>49996</th>\n",
              "      <td>Bad plot, bad dialogue, bad acting, idiotic di...</td>\n",
              "      <td>negative</td>\n",
              "    </tr>\n",
              "    <tr>\n",
              "      <th>49997</th>\n",
              "      <td>I am a Catholic taught in parochial elementary...</td>\n",
              "      <td>negative</td>\n",
              "    </tr>\n",
              "    <tr>\n",
              "      <th>49998</th>\n",
              "      <td>I'm going to have to disagree with the previou...</td>\n",
              "      <td>negative</td>\n",
              "    </tr>\n",
              "    <tr>\n",
              "      <th>49999</th>\n",
              "      <td>No one expects the Star Trek movies to be high...</td>\n",
              "      <td>negative</td>\n",
              "    </tr>\n",
              "  </tbody>\n",
              "</table>\n",
              "<p>50000 rows × 2 columns</p>\n",
              "</div>"
            ],
            "text/plain": [
              "                                                  review sentiment\n",
              "0      One of the other reviewers has mentioned that ...  positive\n",
              "1      A wonderful little production. <br /><br />The...  positive\n",
              "2      I thought this was a wonderful way to spend ti...  positive\n",
              "3      Basically there's a family where a little boy ...  negative\n",
              "4      Petter Mattei's \"Love in the Time of Money\" is...  positive\n",
              "...                                                  ...       ...\n",
              "49995  I thought this movie did a down right good job...  positive\n",
              "49996  Bad plot, bad dialogue, bad acting, idiotic di...  negative\n",
              "49997  I am a Catholic taught in parochial elementary...  negative\n",
              "49998  I'm going to have to disagree with the previou...  negative\n",
              "49999  No one expects the Star Trek movies to be high...  negative\n",
              "\n",
              "[50000 rows x 2 columns]"
            ]
          },
          "metadata": {},
          "execution_count": 5
        }
      ]
    },
    {
      "cell_type": "code",
      "metadata": {
        "colab": {
          "base_uri": "https://localhost:8080/"
        },
        "id": "cZX-briyZc8O",
        "outputId": "1dd7d267-a51b-45b0-fd2f-39a0ecc12bc8"
      },
      "source": [
        "import nltk, scipy, numpy\n",
        "nltk.download('stopwords')"
      ],
      "execution_count": 6,
      "outputs": [
        {
          "output_type": "stream",
          "name": "stdout",
          "text": [
            "[nltk_data] Downloading package stopwords to /root/nltk_data...\n",
            "[nltk_data]   Package stopwords is already up-to-date!\n"
          ]
        },
        {
          "output_type": "execute_result",
          "data": {
            "text/plain": [
              "True"
            ]
          },
          "metadata": {},
          "execution_count": 6
        }
      ]
    },
    {
      "cell_type": "code",
      "metadata": {
        "id": "zheriI-EZmGW"
      },
      "source": [
        "import re\n",
        "import string\n",
        "\n",
        "from nltk.corpus import stopwords\n",
        "from nltk.stem import PorterStemmer\n",
        "from nltk.tokenize import TweetTokenizer"
      ],
      "execution_count": 7,
      "outputs": []
    },
    {
      "cell_type": "code",
      "metadata": {
        "colab": {
          "base_uri": "https://localhost:8080/"
        },
        "id": "v7PzIB0kZrEq",
        "outputId": "2a5f30e9-707f-41ca-db9c-ba7c080a1ad1"
      },
      "source": [
        "\n",
        "\n",
        "data_review = data.iloc[:,0]\n",
        "data_review\n",
        "\n"
      ],
      "execution_count": 8,
      "outputs": [
        {
          "output_type": "execute_result",
          "data": {
            "text/plain": [
              "0        One of the other reviewers has mentioned that ...\n",
              "1        A wonderful little production. <br /><br />The...\n",
              "2        I thought this was a wonderful way to spend ti...\n",
              "3        Basically there's a family where a little boy ...\n",
              "4        Petter Mattei's \"Love in the Time of Money\" is...\n",
              "                               ...                        \n",
              "49995    I thought this movie did a down right good job...\n",
              "49996    Bad plot, bad dialogue, bad acting, idiotic di...\n",
              "49997    I am a Catholic taught in parochial elementary...\n",
              "49998    I'm going to have to disagree with the previou...\n",
              "49999    No one expects the Star Trek movies to be high...\n",
              "Name: review, Length: 50000, dtype: object"
            ]
          },
          "metadata": {},
          "execution_count": 8
        }
      ]
    },
    {
      "cell_type": "code",
      "metadata": {
        "colab": {
          "base_uri": "https://localhost:8080/"
        },
        "id": "Q3-V9aSmZtvt",
        "outputId": "b90041b5-73a7-4c68-897e-c2209396be2b"
      },
      "source": [
        "one_review = data_review[3600]\n",
        "print(f'Original : {one_review}')"
      ],
      "execution_count": 9,
      "outputs": [
        {
          "output_type": "stream",
          "name": "stdout",
          "text": [
            "Original : Mercifully, there's no video of this wannabe western that a stay-afloat vehicle for Big Frank at a time when his career was floundering. The story of a weasel who lives on the reputation of his big gun brother and who gets run out of town by bad guys only to return to rally his townfolks with a new found courage must have been written by a back-room writer. All in all, this show stinks. The story is basically boring, ill-conceived and so naive that it can offend your intelligence. I must depart complete from the other reviewer who found it \"...underrated...\" The critics slammed it at the time and deservedly so. You'll have to catch it on the last show, if you up late and having a bout of insomnia. But, if you can sit through it, you've more fortitude than most of my movie buff friends.\n"
          ]
        }
      ]
    },
    {
      "cell_type": "code",
      "metadata": {
        "colab": {
          "base_uri": "https://localhost:8080/"
        },
        "id": "wk-wW42FZ0Pm",
        "outputId": "b9c1d891-be97-41c5-f944-b75fe5c8b274"
      },
      "source": [
        "one_review_url_removed = re.sub(r'https?:\\/\\/.*[\\r\\n]*','',one_review)\n",
        "print(f'Url Removed: {one_review_url_removed}')"
      ],
      "execution_count": 10,
      "outputs": [
        {
          "output_type": "stream",
          "name": "stdout",
          "text": [
            "Url Removed: Mercifully, there's no video of this wannabe western that a stay-afloat vehicle for Big Frank at a time when his career was floundering. The story of a weasel who lives on the reputation of his big gun brother and who gets run out of town by bad guys only to return to rally his townfolks with a new found courage must have been written by a back-room writer. All in all, this show stinks. The story is basically boring, ill-conceived and so naive that it can offend your intelligence. I must depart complete from the other reviewer who found it \"...underrated...\" The critics slammed it at the time and deservedly so. You'll have to catch it on the last show, if you up late and having a bout of insomnia. But, if you can sit through it, you've more fortitude than most of my movie buff friends.\n"
          ]
        }
      ]
    },
    {
      "cell_type": "code",
      "metadata": {
        "colab": {
          "base_uri": "https://localhost:8080/"
        },
        "id": "q7zXBAtMZ4rk",
        "outputId": "844e13bd-ebd1-40a5-a3c0-d799e96b64cd"
      },
      "source": [
        "one_review_tag_removed = re.sub(r'#','',one_review)\n",
        "print(f'# Removed: {one_review_url_removed}')"
      ],
      "execution_count": 11,
      "outputs": [
        {
          "output_type": "stream",
          "name": "stdout",
          "text": [
            "# Removed: Mercifully, there's no video of this wannabe western that a stay-afloat vehicle for Big Frank at a time when his career was floundering. The story of a weasel who lives on the reputation of his big gun brother and who gets run out of town by bad guys only to return to rally his townfolks with a new found courage must have been written by a back-room writer. All in all, this show stinks. The story is basically boring, ill-conceived and so naive that it can offend your intelligence. I must depart complete from the other reviewer who found it \"...underrated...\" The critics slammed it at the time and deservedly so. You'll have to catch it on the last show, if you up late and having a bout of insomnia. But, if you can sit through it, you've more fortitude than most of my movie buff friends.\n"
          ]
        }
      ]
    },
    {
      "cell_type": "code",
      "metadata": {
        "colab": {
          "base_uri": "https://localhost:8080/"
        },
        "id": "X68fx5Y4Z7pn",
        "outputId": "9506ef67-30ec-4ac5-881c-14fa452334c7"
      },
      "source": [
        "tokenizer=TweetTokenizer(preserve_case=False)\n",
        "review_token = tokenizer.tokenize(one_review_tag_removed)\n",
        "review_token"
      ],
      "execution_count": 12,
      "outputs": [
        {
          "output_type": "execute_result",
          "data": {
            "text/plain": [
              "['mercifully',\n",
              " ',',\n",
              " \"there's\",\n",
              " 'no',\n",
              " 'video',\n",
              " 'of',\n",
              " 'this',\n",
              " 'wannabe',\n",
              " 'western',\n",
              " 'that',\n",
              " 'a',\n",
              " 'stay-afloat',\n",
              " 'vehicle',\n",
              " 'for',\n",
              " 'big',\n",
              " 'frank',\n",
              " 'at',\n",
              " 'a',\n",
              " 'time',\n",
              " 'when',\n",
              " 'his',\n",
              " 'career',\n",
              " 'was',\n",
              " 'floundering',\n",
              " '.',\n",
              " 'the',\n",
              " 'story',\n",
              " 'of',\n",
              " 'a',\n",
              " 'weasel',\n",
              " 'who',\n",
              " 'lives',\n",
              " 'on',\n",
              " 'the',\n",
              " 'reputation',\n",
              " 'of',\n",
              " 'his',\n",
              " 'big',\n",
              " 'gun',\n",
              " 'brother',\n",
              " 'and',\n",
              " 'who',\n",
              " 'gets',\n",
              " 'run',\n",
              " 'out',\n",
              " 'of',\n",
              " 'town',\n",
              " 'by',\n",
              " 'bad',\n",
              " 'guys',\n",
              " 'only',\n",
              " 'to',\n",
              " 'return',\n",
              " 'to',\n",
              " 'rally',\n",
              " 'his',\n",
              " 'townfolks',\n",
              " 'with',\n",
              " 'a',\n",
              " 'new',\n",
              " 'found',\n",
              " 'courage',\n",
              " 'must',\n",
              " 'have',\n",
              " 'been',\n",
              " 'written',\n",
              " 'by',\n",
              " 'a',\n",
              " 'back-room',\n",
              " 'writer',\n",
              " '.',\n",
              " 'all',\n",
              " 'in',\n",
              " 'all',\n",
              " ',',\n",
              " 'this',\n",
              " 'show',\n",
              " 'stinks',\n",
              " '.',\n",
              " 'the',\n",
              " 'story',\n",
              " 'is',\n",
              " 'basically',\n",
              " 'boring',\n",
              " ',',\n",
              " 'ill-conceived',\n",
              " 'and',\n",
              " 'so',\n",
              " 'naive',\n",
              " 'that',\n",
              " 'it',\n",
              " 'can',\n",
              " 'offend',\n",
              " 'your',\n",
              " 'intelligence',\n",
              " '.',\n",
              " 'i',\n",
              " 'must',\n",
              " 'depart',\n",
              " 'complete',\n",
              " 'from',\n",
              " 'the',\n",
              " 'other',\n",
              " 'reviewer',\n",
              " 'who',\n",
              " 'found',\n",
              " 'it',\n",
              " '\"',\n",
              " '...',\n",
              " 'underrated',\n",
              " '...',\n",
              " '\"',\n",
              " 'the',\n",
              " 'critics',\n",
              " 'slammed',\n",
              " 'it',\n",
              " 'at',\n",
              " 'the',\n",
              " 'time',\n",
              " 'and',\n",
              " 'deservedly',\n",
              " 'so',\n",
              " '.',\n",
              " \"you'll\",\n",
              " 'have',\n",
              " 'to',\n",
              " 'catch',\n",
              " 'it',\n",
              " 'on',\n",
              " 'the',\n",
              " 'last',\n",
              " 'show',\n",
              " ',',\n",
              " 'if',\n",
              " 'you',\n",
              " 'up',\n",
              " 'late',\n",
              " 'and',\n",
              " 'having',\n",
              " 'a',\n",
              " 'bout',\n",
              " 'of',\n",
              " 'insomnia',\n",
              " '.',\n",
              " 'but',\n",
              " ',',\n",
              " 'if',\n",
              " 'you',\n",
              " 'can',\n",
              " 'sit',\n",
              " 'through',\n",
              " 'it',\n",
              " ',',\n",
              " \"you've\",\n",
              " 'more',\n",
              " 'fortitude',\n",
              " 'than',\n",
              " 'most',\n",
              " 'of',\n",
              " 'my',\n",
              " 'movie',\n",
              " 'buff',\n",
              " 'friends',\n",
              " '.']"
            ]
          },
          "metadata": {},
          "execution_count": 12
        }
      ]
    },
    {
      "cell_type": "code",
      "metadata": {
        "colab": {
          "base_uri": "https://localhost:8080/"
        },
        "id": "PgFowGYwaEmK",
        "outputId": "decf1988-36f0-4491-fc0f-a59aa13d0d9f"
      },
      "source": [
        "stopwords_e = stopwords.words('english')\n",
        "stopwords_e"
      ],
      "execution_count": 13,
      "outputs": [
        {
          "output_type": "execute_result",
          "data": {
            "text/plain": [
              "['i',\n",
              " 'me',\n",
              " 'my',\n",
              " 'myself',\n",
              " 'we',\n",
              " 'our',\n",
              " 'ours',\n",
              " 'ourselves',\n",
              " 'you',\n",
              " \"you're\",\n",
              " \"you've\",\n",
              " \"you'll\",\n",
              " \"you'd\",\n",
              " 'your',\n",
              " 'yours',\n",
              " 'yourself',\n",
              " 'yourselves',\n",
              " 'he',\n",
              " 'him',\n",
              " 'his',\n",
              " 'himself',\n",
              " 'she',\n",
              " \"she's\",\n",
              " 'her',\n",
              " 'hers',\n",
              " 'herself',\n",
              " 'it',\n",
              " \"it's\",\n",
              " 'its',\n",
              " 'itself',\n",
              " 'they',\n",
              " 'them',\n",
              " 'their',\n",
              " 'theirs',\n",
              " 'themselves',\n",
              " 'what',\n",
              " 'which',\n",
              " 'who',\n",
              " 'whom',\n",
              " 'this',\n",
              " 'that',\n",
              " \"that'll\",\n",
              " 'these',\n",
              " 'those',\n",
              " 'am',\n",
              " 'is',\n",
              " 'are',\n",
              " 'was',\n",
              " 'were',\n",
              " 'be',\n",
              " 'been',\n",
              " 'being',\n",
              " 'have',\n",
              " 'has',\n",
              " 'had',\n",
              " 'having',\n",
              " 'do',\n",
              " 'does',\n",
              " 'did',\n",
              " 'doing',\n",
              " 'a',\n",
              " 'an',\n",
              " 'the',\n",
              " 'and',\n",
              " 'but',\n",
              " 'if',\n",
              " 'or',\n",
              " 'because',\n",
              " 'as',\n",
              " 'until',\n",
              " 'while',\n",
              " 'of',\n",
              " 'at',\n",
              " 'by',\n",
              " 'for',\n",
              " 'with',\n",
              " 'about',\n",
              " 'against',\n",
              " 'between',\n",
              " 'into',\n",
              " 'through',\n",
              " 'during',\n",
              " 'before',\n",
              " 'after',\n",
              " 'above',\n",
              " 'below',\n",
              " 'to',\n",
              " 'from',\n",
              " 'up',\n",
              " 'down',\n",
              " 'in',\n",
              " 'out',\n",
              " 'on',\n",
              " 'off',\n",
              " 'over',\n",
              " 'under',\n",
              " 'again',\n",
              " 'further',\n",
              " 'then',\n",
              " 'once',\n",
              " 'here',\n",
              " 'there',\n",
              " 'when',\n",
              " 'where',\n",
              " 'why',\n",
              " 'how',\n",
              " 'all',\n",
              " 'any',\n",
              " 'both',\n",
              " 'each',\n",
              " 'few',\n",
              " 'more',\n",
              " 'most',\n",
              " 'other',\n",
              " 'some',\n",
              " 'such',\n",
              " 'no',\n",
              " 'nor',\n",
              " 'not',\n",
              " 'only',\n",
              " 'own',\n",
              " 'same',\n",
              " 'so',\n",
              " 'than',\n",
              " 'too',\n",
              " 'very',\n",
              " 's',\n",
              " 't',\n",
              " 'can',\n",
              " 'will',\n",
              " 'just',\n",
              " 'don',\n",
              " \"don't\",\n",
              " 'should',\n",
              " \"should've\",\n",
              " 'now',\n",
              " 'd',\n",
              " 'll',\n",
              " 'm',\n",
              " 'o',\n",
              " 're',\n",
              " 've',\n",
              " 'y',\n",
              " 'ain',\n",
              " 'aren',\n",
              " \"aren't\",\n",
              " 'couldn',\n",
              " \"couldn't\",\n",
              " 'didn',\n",
              " \"didn't\",\n",
              " 'doesn',\n",
              " \"doesn't\",\n",
              " 'hadn',\n",
              " \"hadn't\",\n",
              " 'hasn',\n",
              " \"hasn't\",\n",
              " 'haven',\n",
              " \"haven't\",\n",
              " 'isn',\n",
              " \"isn't\",\n",
              " 'ma',\n",
              " 'mightn',\n",
              " \"mightn't\",\n",
              " 'mustn',\n",
              " \"mustn't\",\n",
              " 'needn',\n",
              " \"needn't\",\n",
              " 'shan',\n",
              " \"shan't\",\n",
              " 'shouldn',\n",
              " \"shouldn't\",\n",
              " 'wasn',\n",
              " \"wasn't\",\n",
              " 'weren',\n",
              " \"weren't\",\n",
              " 'won',\n",
              " \"won't\",\n",
              " 'wouldn',\n",
              " \"wouldn't\"]"
            ]
          },
          "metadata": {},
          "execution_count": 13
        }
      ]
    },
    {
      "cell_type": "code",
      "metadata": {
        "colab": {
          "base_uri": "https://localhost:8080/"
        },
        "id": "59Bxf_pbaG5e",
        "outputId": "d6851fcb-5996-4c93-f176-ab0f8db7de29"
      },
      "source": [
        "review_clean=[]\n",
        "for word in review_token:\n",
        "    if(word not in stopwords_e and word not in string.punctuation):\n",
        "        review_clean.append(word)\n",
        "review_clean"
      ],
      "execution_count": 14,
      "outputs": [
        {
          "output_type": "execute_result",
          "data": {
            "text/plain": [
              "['mercifully',\n",
              " \"there's\",\n",
              " 'video',\n",
              " 'wannabe',\n",
              " 'western',\n",
              " 'stay-afloat',\n",
              " 'vehicle',\n",
              " 'big',\n",
              " 'frank',\n",
              " 'time',\n",
              " 'career',\n",
              " 'floundering',\n",
              " 'story',\n",
              " 'weasel',\n",
              " 'lives',\n",
              " 'reputation',\n",
              " 'big',\n",
              " 'gun',\n",
              " 'brother',\n",
              " 'gets',\n",
              " 'run',\n",
              " 'town',\n",
              " 'bad',\n",
              " 'guys',\n",
              " 'return',\n",
              " 'rally',\n",
              " 'townfolks',\n",
              " 'new',\n",
              " 'found',\n",
              " 'courage',\n",
              " 'must',\n",
              " 'written',\n",
              " 'back-room',\n",
              " 'writer',\n",
              " 'show',\n",
              " 'stinks',\n",
              " 'story',\n",
              " 'basically',\n",
              " 'boring',\n",
              " 'ill-conceived',\n",
              " 'naive',\n",
              " 'offend',\n",
              " 'intelligence',\n",
              " 'must',\n",
              " 'depart',\n",
              " 'complete',\n",
              " 'reviewer',\n",
              " 'found',\n",
              " '...',\n",
              " 'underrated',\n",
              " '...',\n",
              " 'critics',\n",
              " 'slammed',\n",
              " 'time',\n",
              " 'deservedly',\n",
              " 'catch',\n",
              " 'last',\n",
              " 'show',\n",
              " 'late',\n",
              " 'bout',\n",
              " 'insomnia',\n",
              " 'sit',\n",
              " 'fortitude',\n",
              " 'movie',\n",
              " 'buff',\n",
              " 'friends']"
            ]
          },
          "metadata": {},
          "execution_count": 14
        }
      ]
    },
    {
      "cell_type": "code",
      "metadata": {
        "colab": {
          "base_uri": "https://localhost:8080/"
        },
        "id": "YMZRMYE2aJ81",
        "outputId": "a80d2cb9-9b7c-459c-97bc-2eef2b12717c"
      },
      "source": [
        "stemmer=PorterStemmer()\n",
        "review_stemmed = []\n",
        "\n",
        "for word in review_clean:\n",
        "    stemmed  = stemmer.stem(word)\n",
        "    review_stemmed.append(stemmed)\n",
        "print(f'Stemmed Review: {review_stemmed}')"
      ],
      "execution_count": 15,
      "outputs": [
        {
          "output_type": "stream",
          "name": "stdout",
          "text": [
            "Stemmed Review: ['merci', \"there'\", 'video', 'wannab', 'western', 'stay-afloat', 'vehicl', 'big', 'frank', 'time', 'career', 'flounder', 'stori', 'weasel', 'live', 'reput', 'big', 'gun', 'brother', 'get', 'run', 'town', 'bad', 'guy', 'return', 'ralli', 'townfolk', 'new', 'found', 'courag', 'must', 'written', 'back-room', 'writer', 'show', 'stink', 'stori', 'basic', 'bore', 'ill-conceiv', 'naiv', 'offend', 'intellig', 'must', 'depart', 'complet', 'review', 'found', '...', 'underr', '...', 'critic', 'slam', 'time', 'deservedli', 'catch', 'last', 'show', 'late', 'bout', 'insomnia', 'sit', 'fortitud', 'movi', 'buff', 'friend']\n"
          ]
        }
      ]
    }
  ]
}