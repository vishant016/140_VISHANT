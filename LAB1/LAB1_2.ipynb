{
  "nbformat": 4,
  "nbformat_minor": 0,
  "metadata": {
    "colab": {
      "name": "LAB1_2.ipynb",
      "provenance": [],
      "mount_file_id": "1I_KofbISYlNmj5nVO9z6tLt21g2ByncC",
      "authorship_tag": "ABX9TyPpm32YKIBovRSSxZyky29E",
      "include_colab_link": true
    },
    "kernelspec": {
      "name": "python3",
      "display_name": "Python 3"
    },
    "language_info": {
      "name": "python"
    }
  },
  "cells": [
    {
      "cell_type": "markdown",
      "metadata": {
        "id": "view-in-github",
        "colab_type": "text"
      },
      "source": [
        "<a href=\"https://colab.research.google.com/github/vishant016/140_VISHANT/blob/main/LAB1/LAB1_2.ipynb\" target=\"_parent\"><img src=\"https://colab.research.google.com/assets/colab-badge.svg\" alt=\"Open In Colab\"/></a>"
      ]
    },
    {
      "cell_type": "markdown",
      "metadata": {
        "id": "pMGJGgkgB8wI"
      },
      "source": [
        "**\n",
        "1. Create Two numpy array of size 3 X 2 and 2 X 3\n",
        "2. Randomly Initalize that array\n",
        "3. Perform matrix multiplication\n",
        "4. Perform elementwise matrix multiplication\n",
        "5. Find mean of first matrix\n",
        "6. Convert Numeric entries(columns) of mtcars.csv to Mean Centered Version \n",
        "**"
      ]
    },
    {
      "cell_type": "code",
      "metadata": {
        "colab": {
          "base_uri": "https://localhost:8080/"
        },
        "id": "A4eXPmIfBj0O",
        "outputId": "816934a9-9b43-4171-fc7f-d5b8af14b29f"
      },
      "source": [
        "import numpy as np\n",
        "import random\n",
        "A = np.arange(6).reshape(3,2)\n",
        "B = np.arange(0,6).reshape(2,3)\n",
        "print(A)\n",
        "\n",
        "print(B)"
      ],
      "execution_count": 10,
      "outputs": [
        {
          "output_type": "stream",
          "text": [
            "[[0 1]\n",
            " [2 3]\n",
            " [4 5]]\n",
            "[[0 1 2]\n",
            " [3 4 5]]\n"
          ],
          "name": "stdout"
        }
      ]
    },
    {
      "cell_type": "code",
      "metadata": {
        "colab": {
          "base_uri": "https://localhost:8080/"
        },
        "id": "FtesN31yE8au",
        "outputId": "ce6fa75f-8b22-4107-f99e-bf4a3f21c725"
      },
      "source": [
        "A=np.empty([3,2] ,dtype=int)\n",
        "B=np.empty([2,3] ,dtype=int)\n",
        "print(A)\n",
        "print(B)"
      ],
      "execution_count": 17,
      "outputs": [
        {
          "output_type": "stream",
          "text": [
            "[[0 1]\n",
            " [2 3]\n",
            " [4 5]]\n",
            "[[94028575124720              0              0]\n",
            " [             0              0              0]]\n"
          ],
          "name": "stdout"
        }
      ]
    },
    {
      "cell_type": "code",
      "metadata": {
        "colab": {
          "base_uri": "https://localhost:8080/"
        },
        "id": "1ANIzzoPCnt4",
        "outputId": "cbd3fd63-b743-48b2-c832-ca992831fff9"
      },
      "source": [
        "np.dot(A,B)"
      ],
      "execution_count": 11,
      "outputs": [
        {
          "output_type": "execute_result",
          "data": {
            "text/plain": [
              "array([[ 3,  4,  5],\n",
              "       [ 9, 14, 19],\n",
              "       [15, 24, 33]])"
            ]
          },
          "metadata": {
            "tags": []
          },
          "execution_count": 11
        }
      ]
    },
    {
      "cell_type": "code",
      "metadata": {
        "colab": {
          "base_uri": "https://localhost:8080/"
        },
        "id": "F_ZiuaJmFU_V",
        "outputId": "ff0641de-d3c9-4d14-c0e2-669d3e8d57bb"
      },
      "source": [
        "np.mean(A)"
      ],
      "execution_count": 21,
      "outputs": [
        {
          "output_type": "execute_result",
          "data": {
            "text/plain": [
              "2.5"
            ]
          },
          "metadata": {
            "tags": []
          },
          "execution_count": 21
        }
      ]
    },
    {
      "cell_type": "code",
      "metadata": {
        "colab": {
          "base_uri": "https://localhost:8080/"
        },
        "id": "OCdURynsGXZM",
        "outputId": "8f3cf835-a93f-4cdc-8624-c117676aa6c0"
      },
      "source": [
        "import pandas as pd\n",
        "mtcar = pd.read_csv('/content/drive/MyDrive/ML/Dataset/mtcars.csv')\n",
        "del mtcar['model']\n",
        "meancenter=mtcar.apply(lambda x: x-x.mean())\n",
        "print(meancenter.head())"
      ],
      "execution_count": 23,
      "outputs": [
        {
          "output_type": "stream",
          "text": [
            "        mpg     cyl        disp       hp  ...      vs       am    gear    carb\n",
            "0  0.909375 -0.1875  -70.721875 -36.6875  ... -0.4375  0.59375  0.3125  1.1875\n",
            "1  0.909375 -0.1875  -70.721875 -36.6875  ... -0.4375  0.59375  0.3125  1.1875\n",
            "2  2.709375 -2.1875 -122.721875 -53.6875  ...  0.5625  0.59375  0.3125 -1.8125\n",
            "3  1.309375 -0.1875   27.278125 -36.6875  ...  0.5625 -0.40625 -0.6875 -1.8125\n",
            "4 -1.390625  1.8125  129.278125  28.3125  ... -0.4375 -0.40625 -0.6875 -0.8125\n",
            "\n",
            "[5 rows x 11 columns]\n"
          ],
          "name": "stdout"
        }
      ]
    }
  ]
}