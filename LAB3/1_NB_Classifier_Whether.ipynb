{
  "nbformat": 4,
  "nbformat_minor": 0,
  "metadata": {
    "kernelspec": {
      "display_name": "Python 3",
      "language": "python",
      "name": "python3"
    },
    "language_info": {
      "codemirror_mode": {
        "name": "ipython",
        "version": 3
      },
      "file_extension": ".py",
      "mimetype": "text/x-python",
      "name": "python",
      "nbconvert_exporter": "python",
      "pygments_lexer": "ipython3",
      "version": "3.6.6"
    },
    "colab": {
      "name": "1_NB_Classifier_Whether.ipynb",
      "provenance": [],
      "include_colab_link": true
    }
  },
  "cells": [
    {
      "cell_type": "markdown",
      "metadata": {
        "id": "view-in-github",
        "colab_type": "text"
      },
      "source": [
        "<a href=\"https://colab.research.google.com/github/vishant016/140_VISHANT/blob/main/LAB3/1_NB_Classifier_Whether.ipynb\" target=\"_parent\"><img src=\"https://colab.research.google.com/assets/colab-badge.svg\" alt=\"Open In Colab\"/></a>"
      ]
    },
    {
      "cell_type": "markdown",
      "metadata": {
        "id": "v-qaLkV_wIwA"
      },
      "source": [
        "**Aim: Implement Naive Bayes classifier : Whether Example**"
      ]
    },
    {
      "cell_type": "markdown",
      "metadata": {
        "id": "fE3k_I_lwE3_"
      },
      "source": [
        "#Step 1: Import necessary libraries.\n",
        "We will use preprocessing and naive bayes libraries of sklearn"
      ]
    },
    {
      "cell_type": "code",
      "metadata": {
        "id": "AX_Lt4HDvoF4"
      },
      "source": [
        "from sklearn import preprocessing\n",
        "from sklearn.naive_bayes import GaussianNB, MultinomialNB\n",
        "import pandas\n",
        "import numpy as np"
      ],
      "execution_count": 15,
      "outputs": []
    },
    {
      "cell_type": "markdown",
      "metadata": {
        "id": "heSKGhv4wPYo"
      },
      "source": [
        "#Step 2: Prepare dataset.\n",
        "Create feature set for weather and temperature, and classlabel play."
      ]
    },
    {
      "cell_type": "code",
      "metadata": {
        "id": "YBmuKC8mvoGe"
      },
      "source": [
        "weather = ['Sunny', 'Sunny', 'Overcast', 'Rainy', 'Rainy','Rainy', 'Overcast',\n",
        "           'Sunny', 'Sunny', 'Rainy', 'Sunny', 'Overcast', 'Overcast', 'Rainy']\n",
        "\n",
        "temp = ['Hot','Hot','Hot','Mild','Cool','Cool','Cool','Mild',\n",
        "        'Cool','Mild','Mild','Mild','Hot','Mild']\n",
        "\n",
        "play=['No','No','Yes','Yes','Yes','No','Yes','No','Yes',\n",
        "      'Yes','Yes','Yes','Yes','No']"
      ],
      "execution_count": 4,
      "outputs": []
    },
    {
      "cell_type": "markdown",
      "metadata": {
        "id": "VLHsDzOlwUcc"
      },
      "source": [
        "#Step 3: Digitize the data set using encoding"
      ]
    },
    {
      "cell_type": "code",
      "metadata": {
        "id": "D2Y-GxbyvoG-",
        "colab": {
          "base_uri": "https://localhost:8080/"
        },
        "outputId": "cfe5e776-490c-425f-b91c-017bb667be9d"
      },
      "source": [
        "#creating labelEncoder\n",
        "le = preprocessing.LabelEncoder()\n",
        "\n",
        "# Converting string labels into numbers.\n",
        "weather_encoded=le.fit_transform(weather)\n",
        "print(\"Weather:\" ,weather_encoded)"
      ],
      "execution_count": 5,
      "outputs": [
        {
          "output_type": "stream",
          "name": "stdout",
          "text": [
            "Weather: [2 2 0 1 1 1 0 2 2 1 2 0 0 1]\n"
          ]
        }
      ]
    },
    {
      "cell_type": "code",
      "metadata": {
        "id": "E8pKDFm8voHY",
        "colab": {
          "base_uri": "https://localhost:8080/"
        },
        "outputId": "028e4f4e-8de5-4322-b254-caae251b3160"
      },
      "source": [
        "temp_encoded=le.fit_transform(temp)\n",
        "label=le.fit_transform(play)\n",
        "\n",
        "print(\"Temp:\",temp_encoded)\n",
        "print(\"Play:\",label)"
      ],
      "execution_count": 6,
      "outputs": [
        {
          "output_type": "stream",
          "name": "stdout",
          "text": [
            "Temp: [1 1 1 2 0 0 0 2 0 2 2 2 1 2]\n",
            "Play: [0 0 1 1 1 0 1 0 1 1 1 1 1 0]\n"
          ]
        }
      ]
    },
    {
      "cell_type": "markdown",
      "metadata": {
        "id": "1u2XKORtwckp"
      },
      "source": [
        "#Step 4: Merge different features to prepare dataset"
      ]
    },
    {
      "cell_type": "code",
      "metadata": {
        "id": "zcNtO6aUvoHs",
        "colab": {
          "base_uri": "https://localhost:8080/"
        },
        "outputId": "0c766b0b-a125-4044-e218-bba44e721c6c"
      },
      "source": [
        "#Combinig weather and temp into single listof tuples\n",
        "features=tuple(zip(weather_encoded,temp_encoded))\n",
        "print(\"Features:\",features)"
      ],
      "execution_count": 7,
      "outputs": [
        {
          "output_type": "stream",
          "name": "stdout",
          "text": [
            "Features: ((2, 1), (2, 1), (0, 1), (1, 2), (1, 0), (1, 0), (0, 0), (2, 2), (2, 0), (1, 2), (2, 2), (0, 2), (0, 1), (1, 2))\n"
          ]
        }
      ]
    },
    {
      "cell_type": "markdown",
      "metadata": {
        "id": "CDOMHUccT1hA"
      },
      "source": [
        ""
      ]
    },
    {
      "cell_type": "markdown",
      "metadata": {
        "id": "ZTs-FRS5wgQs"
      },
      "source": [
        "#Step 5: Train ’Naive Bayes Classifier’"
      ]
    },
    {
      "cell_type": "code",
      "metadata": {
        "id": "6ON9ljKDvoIB",
        "colab": {
          "base_uri": "https://localhost:8080/"
        },
        "outputId": "f72822a7-bd62-4866-9c24-a11733e99aba"
      },
      "source": [
        "#Create a Classifier\n",
        "model=MultinomialNB()\n",
        "# Train the model using the training sets\n",
        "model.fit(features,label)"
      ],
      "execution_count": 8,
      "outputs": [
        {
          "output_type": "execute_result",
          "data": {
            "text/plain": [
              "MultinomialNB(alpha=1.0, class_prior=None, fit_prior=True)"
            ]
          },
          "metadata": {},
          "execution_count": 8
        }
      ]
    },
    {
      "cell_type": "markdown",
      "metadata": {
        "id": "vRuNrfolwjn4"
      },
      "source": [
        "#Step 6: Predict Output for new data"
      ]
    },
    {
      "cell_type": "code",
      "metadata": {
        "id": "Ix6AhMALvoIU",
        "colab": {
          "base_uri": "https://localhost:8080/"
        },
        "outputId": "2e9df108-1d5d-431b-c4b9-d6daa2f8b390"
      },
      "source": [
        "#Predict Output\n",
        "predicted= model.predict([[0,2]]) # 0:Overcast, 2:Mild\n",
        "print(\"Predicted Value:\", predicted)"
      ],
      "execution_count": 9,
      "outputs": [
        {
          "output_type": "stream",
          "name": "stdout",
          "text": [
            "Predicted Value: [1]\n"
          ]
        }
      ]
    },
    {
      "cell_type": "code",
      "metadata": {
        "id": "HGejlGZvvoIk",
        "colab": {
          "base_uri": "https://localhost:8080/"
        },
        "outputId": "7d6538d4-5976-4fb7-bf59-61920bdef934"
      },
      "source": [
        "predicted= model.predict([[0,1]]) # 0:Overcast, 1:Hot\n",
        "print(\"Predicted Value:\", predicted)"
      ],
      "execution_count": 10,
      "outputs": [
        {
          "output_type": "stream",
          "name": "stdout",
          "text": [
            "Predicted Value: [1]\n"
          ]
        }
      ]
    },
    {
      "cell_type": "code",
      "metadata": {
        "id": "ROG6v7C_voIy",
        "colab": {
          "base_uri": "https://localhost:8080/"
        },
        "outputId": "8627fa89-cdb1-49c0-855f-8c787aefb938"
      },
      "source": [
        "predicted= model.predict([[2,2]]) # 2:Sunny, 2:Mild\n",
        "\n",
        "print(\"Predicted Value:\", predicted)"
      ],
      "execution_count": 11,
      "outputs": [
        {
          "output_type": "stream",
          "name": "stdout",
          "text": [
            "Predicted Value: [1]\n"
          ]
        }
      ]
    },
    {
      "cell_type": "markdown",
      "metadata": {
        "id": "oKxdQNaxwoZn"
      },
      "source": [
        "#Exercise:\n",
        "\n",
        "**Manually calculate output for the following cases and compare it with system’s output.**\n",
        "\n",
        "######(1) Will you play if the temperature is 'Hot' and weather is 'overcast'?\n",
        "\n",
        "######(2) Will you play if the temperature is 'Mild' and weather is 'Sunny'?\n",
        "\n",
        "\n",
        "\n",
        "\n",
        "\n",
        "\n",
        "\n",
        "\n"
      ]
    },
    {
      "cell_type": "code",
      "metadata": {
        "id": "dQIOG4_9voJA"
      },
      "source": [
        "# p(y=1/overcast,hot)=p(overcast,hot/y=1)*p(y=1)/p(overcast,hot)\n",
        "class customNB:\n",
        "    def __init__(self,features,label):\n",
        "        self.features=np.array(features)\n",
        "        self.label=np.array(label)\n",
        "    \n",
        "    def prior_prob(self,on_which):\n",
        "        tot=self.label.shape[0]\n",
        "        on_which_tot=np.sum(self.label==on_which)\n",
        "        \n",
        "        return on_which_tot/tot\n",
        "    \n",
        "    def conditional_prob(self,feature_col,feature_val,on_which):\n",
        "        new_features=self.features[self.label==on_which]\n",
        "        numerator=np.sum(new_features[:,feature_col]==feature_val)\n",
        "        \n",
        "        return numerator/len(new_features)\n",
        "    \n",
        "    def getVal(self,on_which,feature_col,feature_val):\n",
        "        prob=self.prior_prob(on_which)\n",
        "        \n",
        "        for col,val in zip(feature_col,feature_val):\n",
        "            prob=prob*self.conditional_prob(col,val,on_which)\n",
        "        \n",
        "        return prob"
      ],
      "execution_count": 13,
      "outputs": []
    },
    {
      "cell_type": "code",
      "metadata": {
        "id": "pbt4Q0OVbgdR",
        "outputId": "5489c76a-78b1-4ed0-de74-28cde45eff0b",
        "colab": {
          "base_uri": "https://localhost:8080/"
        }
      },
      "source": [
        "custom_model=customNB(features,label)\n",
        "yes_prob,no_prob=custom_model.getVal(1,[0,1],[0,1]),custom_model.getVal(0,[0,1],[0,1])\n",
        "print(yes_prob,no_prob)"
      ],
      "execution_count": 16,
      "outputs": [
        {
          "output_type": "stream",
          "name": "stdout",
          "text": [
            "0.06349206349206349 0.0\n"
          ]
        }
      ]
    },
    {
      "cell_type": "code",
      "metadata": {
        "id": "r8jZJ6eMb4F5",
        "outputId": "26eec1ba-e457-4b3c-cbd7-a85e574b1f72",
        "colab": {
          "base_uri": "https://localhost:8080/"
        }
      },
      "source": [
        "predicted=model.predict([[0,1]])\n",
        "print(predicted)"
      ],
      "execution_count": 17,
      "outputs": [
        {
          "output_type": "stream",
          "name": "stdout",
          "text": [
            "[1]\n"
          ]
        }
      ]
    },
    {
      "cell_type": "code",
      "metadata": {
        "id": "Ul5AOcHebjqp",
        "outputId": "928a96dc-b534-4acb-8dd6-4646f6e949fb",
        "colab": {
          "base_uri": "https://localhost:8080/"
        }
      },
      "source": [
        "yes_prob,no_prob=custom_model.getVal(1,[0,1],[2,2]),custom_model.getVal(0,[0,1],[2,2])\n",
        "print(yes_prob,no_prob)"
      ],
      "execution_count": 18,
      "outputs": [
        {
          "output_type": "stream",
          "name": "stdout",
          "text": [
            "0.06349206349206349 0.08571428571428572\n"
          ]
        }
      ]
    },
    {
      "cell_type": "code",
      "metadata": {
        "id": "6FAXD39kb-F5",
        "outputId": "3d0bf29a-9990-4e9d-9b52-4a1844bcedfe",
        "colab": {
          "base_uri": "https://localhost:8080/"
        }
      },
      "source": [
        "predicted=model.predict([[2,2]])\n",
        "print(predicted)"
      ],
      "execution_count": 19,
      "outputs": [
        {
          "output_type": "stream",
          "name": "stdout",
          "text": [
            "[1]\n"
          ]
        }
      ]
    }
  ]
}