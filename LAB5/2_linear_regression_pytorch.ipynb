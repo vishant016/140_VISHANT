{
  "nbformat": 4,
  "nbformat_minor": 0,
  "metadata": {
    "kernelspec": {
      "display_name": "Python 3",
      "language": "python",
      "name": "python3"
    },
    "language_info": {
      "name": "python",
      "version": "3.6.6",
      "mimetype": "text/x-python",
      "codemirror_mode": {
        "name": "ipython",
        "version": 3
      },
      "pygments_lexer": "ipython3",
      "nbconvert_exporter": "python",
      "file_extension": ".py"
    },
    "colab": {
      "name": "2-linear-regression-pytorch.ipynb",
      "provenance": [],
      "include_colab_link": true
    }
  },
  "cells": [
    {
      "cell_type": "markdown",
      "metadata": {
        "id": "view-in-github",
        "colab_type": "text"
      },
      "source": [
        "<a href=\"https://colab.research.google.com/github/vishant016/140_VISHANT/blob/main/LAB5/2_linear_regression_pytorch.ipynb\" target=\"_parent\"><img src=\"https://colab.research.google.com/assets/colab-badge.svg\" alt=\"Open In Colab\"/></a>"
      ]
    },
    {
      "cell_type": "code",
      "metadata": {
        "_cell_guid": "79c7e3d0-c299-4dcb-8224-4455121ee9b0",
        "_uuid": "d629ff2d2480ee46fbb7e2d37f6b5fab8052498a",
        "trusted": true,
        "id": "v0BtAX1--7l_"
      },
      "source": [
        "# Import Numpy & PyTorch\n",
        "import numpy as np\n",
        "import torch"
      ],
      "execution_count": 2,
      "outputs": []
    },
    {
      "cell_type": "markdown",
      "metadata": {
        "_uuid": "ecc6e79cdfb6a8ca882895ccc895b61b960b0a04",
        "id": "i1HSrBDb-7t9"
      },
      "source": [
        "## Linear Regression Model using PyTorch built-ins\n",
        "\n",
        "Let's re-implement the same model using some built-in functions and classes from PyTorch.\n",
        "\n",
        "And now using two different targets: Apples and Oranges"
      ]
    },
    {
      "cell_type": "code",
      "metadata": {
        "trusted": true,
        "_uuid": "ce66cf0d09a3f38bf2f00ea40418c56d98f1f814",
        "id": "iXiEK54j-7t-"
      },
      "source": [
        "# Imports\n",
        "import torch.nn as nn"
      ],
      "execution_count": 3,
      "outputs": []
    },
    {
      "cell_type": "code",
      "metadata": {
        "id": "ENTi4rlGgv8B",
        "outputId": "630b06cd-facf-46bb-c0cd-f1a3dad93ab1",
        "colab": {
          "base_uri": "https://localhost:8080/"
        }
      },
      "source": [
        "from google.colab import drive\n",
        "drive.mount('/content/drive')"
      ],
      "execution_count": 4,
      "outputs": [
        {
          "output_type": "stream",
          "name": "stdout",
          "text": [
            "Mounted at /content/drive\n"
          ]
        }
      ]
    },
    {
      "cell_type": "code",
      "metadata": {
        "trusted": true,
        "_uuid": "74bb18bd01ac809079eeb8d05695206e8ba02069",
        "id": "wCsxgTWO-7uM"
      },
      "source": [
        "# Input (temp, rainfall, humidity)\n",
        "inputs = np.array([[73, 67, 43], [91, 88, 64], [87, 134, 58], [102, 43, 37], [69, 96, 70], [73, 67, 43], [91, 88, 64], [87, 134, 58], [102, 43, 37], [69, 96, 70], [73, 67, 43], [91, 88, 64], [87, 134, 58], [102, 43, 37], [69, 96, 70]], dtype='float32')\n",
        "# Targets (apples, oranges)\n",
        "targets = np.array([[56, 70], [81, 101], [119, 133], [22, 37], [103, 119], \n",
        "                    [56, 70], [81, 101], [119, 133], [22, 37], [103, 119], \n",
        "                    [56, 70], [81, 101], [119, 133], [22, 37], [103, 119]], dtype='float32')"
      ],
      "execution_count": 5,
      "outputs": []
    },
    {
      "cell_type": "code",
      "metadata": {
        "trusted": true,
        "_uuid": "d94b355f55250e9c7dcff668920f02d7c5c04925",
        "id": "nJRlm4-N-7uY"
      },
      "source": [
        "inputs = torch.from_numpy(inputs)\n",
        "targets = torch.from_numpy(targets)"
      ],
      "execution_count": 13,
      "outputs": []
    },
    {
      "cell_type": "markdown",
      "metadata": {
        "_uuid": "a0665466eb5401f40a816b323a34450b2c052c41",
        "id": "O6JT5Ng6-7uj"
      },
      "source": [
        "### Dataset and DataLoader\n",
        "\n",
        "We'll create a `TensorDataset`, which allows access to rows from `inputs` and `targets` as tuples. We'll also create a DataLoader, to split the data into batches while training. It also provides other utilities like shuffling and sampling."
      ]
    },
    {
      "cell_type": "code",
      "metadata": {
        "trusted": true,
        "_uuid": "206f5fd0473386476b23477bf38d2c327b6376c9",
        "id": "iGYdbuWc-7ul"
      },
      "source": [
        "# Import tensor dataset & data loader\n",
        "from torch.utils.data import TensorDataset, DataLoader"
      ],
      "execution_count": 11,
      "outputs": []
    },
    {
      "cell_type": "code",
      "metadata": {
        "trusted": true,
        "_uuid": "c47a4f2f86fda3918094e01cf7ab0698bbb5acc7",
        "id": "LY_cq6Bf-7ux"
      },
      "source": [
        "# Define dataset\n",
        "dataset = torch.utils.data.TensorDataset(inputs,targets)\n"
      ],
      "execution_count": 14,
      "outputs": []
    },
    {
      "cell_type": "code",
      "metadata": {
        "trusted": true,
        "_uuid": "0a2f69126319d738b82ae67d5d404ecd6161bfac",
        "id": "I-_dMpco-7u-"
      },
      "source": [
        "# Define data loader\n",
        "dataloader = torch.utils.data.DataLoader(dataset,batch_size=5)"
      ],
      "execution_count": 15,
      "outputs": []
    },
    {
      "cell_type": "markdown",
      "metadata": {
        "_uuid": "276a262e1b9e3a048bcd32989013f9c501c59037",
        "id": "Dq8gUbVx-7vK"
      },
      "source": [
        "### nn.Linear\n",
        "Instead of initializing the weights & biases manually, we can define the model using `nn.Linear`."
      ]
    },
    {
      "cell_type": "code",
      "metadata": {
        "trusted": true,
        "_uuid": "59da3506559a0640d80d18f77b02726a1757be2f",
        "id": "sKa873ZD-7vN",
        "colab": {
          "base_uri": "https://localhost:8080/"
        },
        "outputId": "001ac438-712a-4583-a500-ed24b3d614ae"
      },
      "source": [
        "# Define model\n",
        "model = nn.Linear(inputs.shape[1],targets.shape[1])\n",
        "model.parameters()"
      ],
      "execution_count": 16,
      "outputs": [
        {
          "output_type": "execute_result",
          "data": {
            "text/plain": [
              "<generator object Module.parameters at 0x7fb6545a6450>"
            ]
          },
          "metadata": {},
          "execution_count": 16
        }
      ]
    },
    {
      "cell_type": "markdown",
      "metadata": {
        "_uuid": "b3a4a8c499a4680f2533329712de034671dd1cdd",
        "id": "rku14lz3-7vX"
      },
      "source": [
        "### Optimizer\n",
        "Instead of manually manipulating the weights & biases using gradients, we can use the optimizer `optim.SGD`."
      ]
    },
    {
      "cell_type": "code",
      "metadata": {
        "trusted": true,
        "_uuid": "1848398bd1ced8c25a7bb55612cf32a774500280",
        "id": "Yd4H-T8g-7va"
      },
      "source": [
        "# Define optimizer\n",
        "optimizer = torch.optim.SGD(model.parameters(),lr=1e-4)\n"
      ],
      "execution_count": 17,
      "outputs": []
    },
    {
      "cell_type": "markdown",
      "metadata": {
        "_uuid": "28cbe62be55010bd11b31d819cff38da5a772b18",
        "id": "V2ktEA-C-7vl"
      },
      "source": [
        "### Loss Function\n",
        "Instead of defining a loss function manually, we can use the built-in loss function `mse_loss`."
      ]
    },
    {
      "cell_type": "code",
      "metadata": {
        "trusted": true,
        "_uuid": "69d7f4e8e27ccd077f711da27f8bede8aa711893",
        "id": "TF2xmzgO-7vo"
      },
      "source": [
        "# Import nn.functional\n",
        "import torch.nn.functional as F"
      ],
      "execution_count": 18,
      "outputs": []
    },
    {
      "cell_type": "code",
      "metadata": {
        "trusted": true,
        "_uuid": "a02ff888ed4be720fd9ca376022d8fdcf2559683",
        "id": "hSgxvr8N-7vz"
      },
      "source": [
        "# Define loss function\n",
        "loss_fn = F.mse_loss"
      ],
      "execution_count": 19,
      "outputs": []
    },
    {
      "cell_type": "code",
      "metadata": {
        "trusted": true,
        "_uuid": "a540adf76725ea9968025f6c029fdd251bdada6c",
        "id": "9vyVL5io-7wA"
      },
      "source": [
        "#loss = loss_fn(? , ?)\n",
        "#print(loss)"
      ],
      "execution_count": 20,
      "outputs": []
    },
    {
      "cell_type": "markdown",
      "metadata": {
        "_uuid": "e833614a69ff18c554a3d89f643ae2f11e0260f6",
        "id": "9jbPdkiO-7wM"
      },
      "source": [
        "### Train the model\n",
        "\n",
        "We are ready to train the model now. We can define a utility function `fit` which trains the model for a given number of epochs."
      ]
    },
    {
      "cell_type": "code",
      "metadata": {
        "trusted": true,
        "_uuid": "128bc7260221f5338edf8b503c75f0c7d1cce7e8",
        "id": "zDnWui7g-7wP"
      },
      "source": [
        "# Define a utility function to train the model\n",
        "def fit(num_epochs, model, loss_fn, opt):\n",
        "   for epoch in range(num_epochs):\n",
        "       for xb,yb in dataloader:\n",
        "            # Generate predictions\n",
        "            pred = model(xb)\n",
        "            loss = loss_fn(yb,pred)\n",
        "            # Perform gradient descent\n",
        "            loss.backward()\n",
        "            opt.step()\n",
        "            opt.zero_grad()\n",
        "       print('Training loss: ', loss_fn(model(inputs), targets))"
      ],
      "execution_count": 21,
      "outputs": []
    },
    {
      "cell_type": "code",
      "metadata": {
        "trusted": true,
        "_uuid": "ae8ca4686cf6a68f6c9ca93bf3d227abe96c2201",
        "id": "Gd8tiT_q-7wa",
        "colab": {
          "base_uri": "https://localhost:8080/"
        },
        "outputId": "3744f63b-8a88-441f-b9e3-ffd567e5beec"
      },
      "source": [
        "\n",
        "# Train the model for 100 epochs\n",
        "fit(120 , model , loss_fn, optimizer)\n",
        "\n"
      ],
      "execution_count": 22,
      "outputs": [
        {
          "output_type": "stream",
          "name": "stdout",
          "text": [
            "Training loss:  tensor(3833.4336, grad_fn=<MseLossBackward>)\n",
            "Training loss:  tensor(1143.2247, grad_fn=<MseLossBackward>)\n",
            "Training loss:  tensor(426.8425, grad_fn=<MseLossBackward>)\n",
            "Training loss:  tensor(211.9994, grad_fn=<MseLossBackward>)\n",
            "Training loss:  tensor(132.3152, grad_fn=<MseLossBackward>)\n",
            "Training loss:  tensor(94.0960, grad_fn=<MseLossBackward>)\n",
            "Training loss:  tensor(71.7060, grad_fn=<MseLossBackward>)\n",
            "Training loss:  tensor(57.0472, grad_fn=<MseLossBackward>)\n",
            "Training loss:  tensor(46.9055, grad_fn=<MseLossBackward>)\n",
            "Training loss:  tensor(39.6613, grad_fn=<MseLossBackward>)\n",
            "Training loss:  tensor(34.3548, grad_fn=<MseLossBackward>)\n",
            "Training loss:  tensor(30.3695, grad_fn=<MseLossBackward>)\n",
            "Training loss:  tensor(27.2959, grad_fn=<MseLossBackward>)\n",
            "Training loss:  tensor(24.8584, grad_fn=<MseLossBackward>)\n",
            "Training loss:  tensor(22.8701, grad_fn=<MseLossBackward>)\n",
            "Training loss:  tensor(21.2038, grad_fn=<MseLossBackward>)\n",
            "Training loss:  tensor(19.7727, grad_fn=<MseLossBackward>)\n",
            "Training loss:  tensor(18.5170, grad_fn=<MseLossBackward>)\n",
            "Training loss:  tensor(17.3958, grad_fn=<MseLossBackward>)\n",
            "Training loss:  tensor(16.3802, grad_fn=<MseLossBackward>)\n",
            "Training loss:  tensor(15.4502, grad_fn=<MseLossBackward>)\n",
            "Training loss:  tensor(14.5912, grad_fn=<MseLossBackward>)\n",
            "Training loss:  tensor(13.7930, grad_fn=<MseLossBackward>)\n",
            "Training loss:  tensor(13.0476, grad_fn=<MseLossBackward>)\n",
            "Training loss:  tensor(12.3492, grad_fn=<MseLossBackward>)\n",
            "Training loss:  tensor(11.6933, grad_fn=<MseLossBackward>)\n",
            "Training loss:  tensor(11.0760, grad_fn=<MseLossBackward>)\n",
            "Training loss:  tensor(10.4945, grad_fn=<MseLossBackward>)\n",
            "Training loss:  tensor(9.9461, grad_fn=<MseLossBackward>)\n",
            "Training loss:  tensor(9.4285, grad_fn=<MseLossBackward>)\n",
            "Training loss:  tensor(8.9399, grad_fn=<MseLossBackward>)\n",
            "Training loss:  tensor(8.4784, grad_fn=<MseLossBackward>)\n",
            "Training loss:  tensor(8.0424, grad_fn=<MseLossBackward>)\n",
            "Training loss:  tensor(7.6305, grad_fn=<MseLossBackward>)\n",
            "Training loss:  tensor(7.2412, grad_fn=<MseLossBackward>)\n",
            "Training loss:  tensor(6.8733, grad_fn=<MseLossBackward>)\n",
            "Training loss:  tensor(6.5256, grad_fn=<MseLossBackward>)\n",
            "Training loss:  tensor(6.1970, grad_fn=<MseLossBackward>)\n",
            "Training loss:  tensor(5.8864, grad_fn=<MseLossBackward>)\n",
            "Training loss:  tensor(5.5927, grad_fn=<MseLossBackward>)\n",
            "Training loss:  tensor(5.3152, grad_fn=<MseLossBackward>)\n",
            "Training loss:  tensor(5.0529, grad_fn=<MseLossBackward>)\n",
            "Training loss:  tensor(4.8049, grad_fn=<MseLossBackward>)\n",
            "Training loss:  tensor(4.5705, grad_fn=<MseLossBackward>)\n",
            "Training loss:  tensor(4.3489, grad_fn=<MseLossBackward>)\n",
            "Training loss:  tensor(4.1394, grad_fn=<MseLossBackward>)\n",
            "Training loss:  tensor(3.9414, grad_fn=<MseLossBackward>)\n",
            "Training loss:  tensor(3.7542, grad_fn=<MseLossBackward>)\n",
            "Training loss:  tensor(3.5773, grad_fn=<MseLossBackward>)\n",
            "Training loss:  tensor(3.4101, grad_fn=<MseLossBackward>)\n",
            "Training loss:  tensor(3.2520, grad_fn=<MseLossBackward>)\n",
            "Training loss:  tensor(3.1026, grad_fn=<MseLossBackward>)\n",
            "Training loss:  tensor(2.9613, grad_fn=<MseLossBackward>)\n",
            "Training loss:  tensor(2.8278, grad_fn=<MseLossBackward>)\n",
            "Training loss:  tensor(2.7015, grad_fn=<MseLossBackward>)\n",
            "Training loss:  tensor(2.5822, grad_fn=<MseLossBackward>)\n",
            "Training loss:  tensor(2.4694, grad_fn=<MseLossBackward>)\n",
            "Training loss:  tensor(2.3628, grad_fn=<MseLossBackward>)\n",
            "Training loss:  tensor(2.2620, grad_fn=<MseLossBackward>)\n",
            "Training loss:  tensor(2.1667, grad_fn=<MseLossBackward>)\n",
            "Training loss:  tensor(2.0767, grad_fn=<MseLossBackward>)\n",
            "Training loss:  tensor(1.9916, grad_fn=<MseLossBackward>)\n",
            "Training loss:  tensor(1.9111, grad_fn=<MseLossBackward>)\n",
            "Training loss:  tensor(1.8350, grad_fn=<MseLossBackward>)\n",
            "Training loss:  tensor(1.7631, grad_fn=<MseLossBackward>)\n",
            "Training loss:  tensor(1.6951, grad_fn=<MseLossBackward>)\n",
            "Training loss:  tensor(1.6309, grad_fn=<MseLossBackward>)\n",
            "Training loss:  tensor(1.5702, grad_fn=<MseLossBackward>)\n",
            "Training loss:  tensor(1.5127, grad_fn=<MseLossBackward>)\n",
            "Training loss:  tensor(1.4585, grad_fn=<MseLossBackward>)\n",
            "Training loss:  tensor(1.4072, grad_fn=<MseLossBackward>)\n",
            "Training loss:  tensor(1.3587, grad_fn=<MseLossBackward>)\n",
            "Training loss:  tensor(1.3128, grad_fn=<MseLossBackward>)\n",
            "Training loss:  tensor(1.2695, grad_fn=<MseLossBackward>)\n",
            "Training loss:  tensor(1.2285, grad_fn=<MseLossBackward>)\n",
            "Training loss:  tensor(1.1898, grad_fn=<MseLossBackward>)\n",
            "Training loss:  tensor(1.1532, grad_fn=<MseLossBackward>)\n",
            "Training loss:  tensor(1.1186, grad_fn=<MseLossBackward>)\n",
            "Training loss:  tensor(1.0859, grad_fn=<MseLossBackward>)\n",
            "Training loss:  tensor(1.0550, grad_fn=<MseLossBackward>)\n",
            "Training loss:  tensor(1.0258, grad_fn=<MseLossBackward>)\n",
            "Training loss:  tensor(0.9981, grad_fn=<MseLossBackward>)\n",
            "Training loss:  tensor(0.9720, grad_fn=<MseLossBackward>)\n",
            "Training loss:  tensor(0.9473, grad_fn=<MseLossBackward>)\n",
            "Training loss:  tensor(0.9240, grad_fn=<MseLossBackward>)\n",
            "Training loss:  tensor(0.9019, grad_fn=<MseLossBackward>)\n",
            "Training loss:  tensor(0.8811, grad_fn=<MseLossBackward>)\n",
            "Training loss:  tensor(0.8614, grad_fn=<MseLossBackward>)\n",
            "Training loss:  tensor(0.8428, grad_fn=<MseLossBackward>)\n",
            "Training loss:  tensor(0.8251, grad_fn=<MseLossBackward>)\n",
            "Training loss:  tensor(0.8085, grad_fn=<MseLossBackward>)\n",
            "Training loss:  tensor(0.7928, grad_fn=<MseLossBackward>)\n",
            "Training loss:  tensor(0.7779, grad_fn=<MseLossBackward>)\n",
            "Training loss:  tensor(0.7638, grad_fn=<MseLossBackward>)\n",
            "Training loss:  tensor(0.7505, grad_fn=<MseLossBackward>)\n",
            "Training loss:  tensor(0.7380, grad_fn=<MseLossBackward>)\n",
            "Training loss:  tensor(0.7261, grad_fn=<MseLossBackward>)\n",
            "Training loss:  tensor(0.7149, grad_fn=<MseLossBackward>)\n",
            "Training loss:  tensor(0.7042, grad_fn=<MseLossBackward>)\n",
            "Training loss:  tensor(0.6942, grad_fn=<MseLossBackward>)\n",
            "Training loss:  tensor(0.6847, grad_fn=<MseLossBackward>)\n",
            "Training loss:  tensor(0.6758, grad_fn=<MseLossBackward>)\n",
            "Training loss:  tensor(0.6673, grad_fn=<MseLossBackward>)\n",
            "Training loss:  tensor(0.6593, grad_fn=<MseLossBackward>)\n",
            "Training loss:  tensor(0.6517, grad_fn=<MseLossBackward>)\n",
            "Training loss:  tensor(0.6445, grad_fn=<MseLossBackward>)\n",
            "Training loss:  tensor(0.6378, grad_fn=<MseLossBackward>)\n",
            "Training loss:  tensor(0.6314, grad_fn=<MseLossBackward>)\n",
            "Training loss:  tensor(0.6253, grad_fn=<MseLossBackward>)\n",
            "Training loss:  tensor(0.6196, grad_fn=<MseLossBackward>)\n",
            "Training loss:  tensor(0.6142, grad_fn=<MseLossBackward>)\n",
            "Training loss:  tensor(0.6091, grad_fn=<MseLossBackward>)\n",
            "Training loss:  tensor(0.6043, grad_fn=<MseLossBackward>)\n",
            "Training loss:  tensor(0.5997, grad_fn=<MseLossBackward>)\n",
            "Training loss:  tensor(0.5954, grad_fn=<MseLossBackward>)\n",
            "Training loss:  tensor(0.5913, grad_fn=<MseLossBackward>)\n",
            "Training loss:  tensor(0.5875, grad_fn=<MseLossBackward>)\n",
            "Training loss:  tensor(0.5838, grad_fn=<MseLossBackward>)\n",
            "Training loss:  tensor(0.5804, grad_fn=<MseLossBackward>)\n",
            "Training loss:  tensor(0.5771, grad_fn=<MseLossBackward>)\n"
          ]
        }
      ]
    },
    {
      "cell_type": "code",
      "metadata": {
        "trusted": true,
        "_uuid": "32588a47d0478772a1f08fa55874a322630bd0b6",
        "id": "c3Bf-Emn-7wj",
        "colab": {
          "base_uri": "https://localhost:8080/"
        },
        "outputId": "addefdc2-5a79-4d3b-9046-df3fc6c3e24c"
      },
      "source": [
        "# Generate predictions\n",
        "#preds = model(?)\n",
        "#preds\n",
        "preds = model(inputs)\n",
        "preds"
      ],
      "execution_count": 23,
      "outputs": [
        {
          "output_type": "execute_result",
          "data": {
            "text/plain": [
              "tensor([[ 57.2774,  70.3090],\n",
              "        [ 82.0033, 100.4964],\n",
              "        [118.9774, 133.3532],\n",
              "        [ 21.1535,  37.1277],\n",
              "        [101.6362, 118.7437],\n",
              "        [ 57.2774,  70.3090],\n",
              "        [ 82.0033, 100.4964],\n",
              "        [118.9774, 133.3532],\n",
              "        [ 21.1535,  37.1277],\n",
              "        [101.6362, 118.7437],\n",
              "        [ 57.2774,  70.3090],\n",
              "        [ 82.0033, 100.4964],\n",
              "        [118.9774, 133.3532],\n",
              "        [ 21.1535,  37.1277],\n",
              "        [101.6362, 118.7437]], grad_fn=<AddmmBackward>)"
            ]
          },
          "metadata": {},
          "execution_count": 23
        }
      ]
    },
    {
      "cell_type": "code",
      "metadata": {
        "trusted": true,
        "_uuid": "12d757c0f37c2e3af65cf9d4b59878cc10c65acf",
        "id": "_gDGmiHl-7wr",
        "colab": {
          "base_uri": "https://localhost:8080/"
        },
        "outputId": "13e101f6-0d33-4c36-b98d-6ea926a4ddba"
      },
      "source": [
        "# Compare with targets\n",
        "targets"
      ],
      "execution_count": 24,
      "outputs": [
        {
          "output_type": "execute_result",
          "data": {
            "text/plain": [
              "tensor([[ 56.,  70.],\n",
              "        [ 81., 101.],\n",
              "        [119., 133.],\n",
              "        [ 22.,  37.],\n",
              "        [103., 119.],\n",
              "        [ 56.,  70.],\n",
              "        [ 81., 101.],\n",
              "        [119., 133.],\n",
              "        [ 22.,  37.],\n",
              "        [103., 119.],\n",
              "        [ 56.,  70.],\n",
              "        [ 81., 101.],\n",
              "        [119., 133.],\n",
              "        [ 22.,  37.],\n",
              "        [103., 119.]])"
            ]
          },
          "metadata": {},
          "execution_count": 24
        }
      ]
    },
    {
      "cell_type": "markdown",
      "metadata": {
        "_uuid": "2448d9832722f4f2813f8bd80b91daefd901dc2e",
        "id": "b9nvUidI-7xD"
      },
      "source": [
        "Now we can define the model, optimizer and loss function exactly as before."
      ]
    },
    {
      "cell_type": "markdown",
      "metadata": {
        "id": "eAyCq48TMlWJ"
      },
      "source": [
        "#Exercise 1:\n",
        " Try Linear Regression just using numpy (Without Tensorflow/Pytorch or other torch library). You can optionally use sklearn (if you want)\n",
        "#Exercise 2:\n",
        " Try Linear regression on same prediction data using Tensorflow\n",
        "\n",
        " "
      ]
    },
    {
      "cell_type": "code",
      "metadata": {
        "id": "n6ZG5jS8wxrp"
      },
      "source": [
        "from sklearn.linear_model import LinearRegression\n",
        "\n",
        "model = LinearRegression()"
      ],
      "execution_count": 25,
      "outputs": []
    },
    {
      "cell_type": "code",
      "metadata": {
        "id": "9t-NRk8PwyqC"
      },
      "source": [
        "from sklearn.model_selection import train_test_split\n",
        "\n",
        "X_train,X_test,Y_train,Y_test = train_test_split(inputs,targets,test_size=0.5,random_state=140)"
      ],
      "execution_count": 26,
      "outputs": []
    },
    {
      "cell_type": "code",
      "metadata": {
        "colab": {
          "base_uri": "https://localhost:8080/"
        },
        "id": "socCuG-8w55W",
        "outputId": "19e3aeef-66fe-44fe-a556-1ab662247355"
      },
      "source": [
        "model.fit(X_train,Y_train)\n",
        "predictions = model.predict(X_test)\n",
        "predictions"
      ],
      "execution_count": 27,
      "outputs": [
        {
          "output_type": "execute_result",
          "data": {
            "text/plain": [
              "array([[ 98.71938 , 119.30003 ],\n",
              "       [119.      , 133.      ],\n",
              "       [ 98.71938 , 119.30003 ],\n",
              "       [ 81.      , 101.      ],\n",
              "       [119.      , 133.      ],\n",
              "       [ 56.000008,  70.      ],\n",
              "       [ 98.71938 , 119.30003 ],\n",
              "       [ 81.      , 101.      ]], dtype=float32)"
            ]
          },
          "metadata": {},
          "execution_count": 27
        }
      ]
    },
    {
      "cell_type": "code",
      "metadata": {
        "colab": {
          "base_uri": "https://localhost:8080/"
        },
        "id": "7ktunTanw_V_",
        "outputId": "b85c925c-5225-4ff7-964e-22d669b27869"
      },
      "source": [
        "Y_test"
      ],
      "execution_count": 28,
      "outputs": [
        {
          "output_type": "execute_result",
          "data": {
            "text/plain": [
              "tensor([[103., 119.],\n",
              "        [119., 133.],\n",
              "        [103., 119.],\n",
              "        [ 81., 101.],\n",
              "        [119., 133.],\n",
              "        [ 56.,  70.],\n",
              "        [103., 119.],\n",
              "        [ 81., 101.]])"
            ]
          },
          "metadata": {},
          "execution_count": 28
        }
      ]
    },
    {
      "cell_type": "code",
      "metadata": {
        "colab": {
          "base_uri": "https://localhost:8080/"
        },
        "id": "QBGLJ-sYxCKk",
        "outputId": "6170919c-023a-4a43-8f03-398b6dd1864b"
      },
      "source": [
        "from sklearn.metrics import mean_squared_error\n",
        "\n",
        "print(mean_squared_error(Y_test,predictions))"
      ],
      "execution_count": 29,
      "outputs": [
        {
          "output_type": "stream",
          "name": "stdout",
          "text": [
            "3.4525688\n"
          ]
        }
      ]
    },
    {
      "cell_type": "code",
      "metadata": {
        "id": "CIzi9J9VxIng"
      },
      "source": [
        "import tensorflow as tf\n",
        "\n",
        "inputs = np.array([[73, 67, 43], [91, 88, 64], [87, 134, 58], [102, 43, 37], [69, 96, 70], [73, 67, 43], [91, 88, 64], [87, 134, 58], [102, 43, 37], [69, 96, 70], [73, 67, 43], [91, 88, 64], [87, 134, 58], [102, 43, 37], [69, 96, 70]], dtype='float64')\n",
        "# Targets (apples, oranges)\n",
        "targets = np.array([[56, 70], [81, 101], [119, 133], [22, 37], [103, 119], \n",
        "                    [56, 70], [81, 101], [119, 133], [22, 37], [103, 119], \n",
        "                    [56, 70], [81, 101], [119, 133], [22, 37], [103, 119]], dtype='float64')\n",
        "\n"
      ],
      "execution_count": 45,
      "outputs": []
    },
    {
      "cell_type": "code",
      "metadata": {
        "id": "XLEoIaMhxL4V"
      },
      "source": [
        "model = tf.keras.Sequential()\n",
        "model.compile(loss=\"mean_squared_error\")"
      ],
      "execution_count": 46,
      "outputs": []
    },
    {
      "cell_type": "code",
      "metadata": {
        "id": "LpwFmKD3ha52",
        "outputId": "c213f319-aee5-4f58-d00b-f5334837800c",
        "colab": {
          "base_uri": "https://localhost:8080/"
        }
      },
      "source": [
        "inputs = tf.Variable(inputs)\n",
        "targets = tf.Variable(targets)\n",
        "print(\"targets :\\n\",targets)"
      ],
      "execution_count": 47,
      "outputs": [
        {
          "output_type": "stream",
          "name": "stdout",
          "text": [
            "targets :\n",
            " <tf.Variable 'Variable:0' shape=(15, 2) dtype=float64, numpy=\n",
            "array([[ 56.,  70.],\n",
            "       [ 81., 101.],\n",
            "       [119., 133.],\n",
            "       [ 22.,  37.],\n",
            "       [103., 119.],\n",
            "       [ 56.,  70.],\n",
            "       [ 81., 101.],\n",
            "       [119., 133.],\n",
            "       [ 22.,  37.],\n",
            "       [103., 119.],\n",
            "       [ 56.,  70.],\n",
            "       [ 81., 101.],\n",
            "       [119., 133.],\n",
            "       [ 22.,  37.],\n",
            "       [103., 119.]])>\n"
          ]
        }
      ]
    },
    {
      "cell_type": "code",
      "metadata": {
        "id": "Q33gtdC7hvRJ",
        "outputId": "d5c75bcf-9ae1-470c-9578-645461d22c9c",
        "colab": {
          "base_uri": "https://localhost:8080/"
        }
      },
      "source": [
        "\n",
        "\n",
        "v = np.random.rand(3,2)\n",
        "r = np.random.randn(2)\n",
        "v = tf.Variable(v)\n",
        "r = tf.Variable(r)\n",
        "\n",
        "print(v)\n",
        "print()\n",
        "print(r)"
      ],
      "execution_count": 48,
      "outputs": [
        {
          "output_type": "stream",
          "name": "stdout",
          "text": [
            "<tf.Variable 'Variable:0' shape=(3, 2) dtype=float64, numpy=\n",
            "array([[0.78507783, 0.90220197],\n",
            "       [0.69555327, 0.15370827],\n",
            "       [0.73759223, 0.11453492]])>\n",
            "\n",
            "<tf.Variable 'Variable:0' shape=(2,) dtype=float64, numpy=array([3.36472942, 0.00533027])>\n"
          ]
        }
      ]
    },
    {
      "cell_type": "code",
      "metadata": {
        "id": "QXsGTINAhyVy"
      },
      "source": [
        "def model(s):\n",
        "    return s @ v + r"
      ],
      "execution_count": 49,
      "outputs": []
    },
    {
      "cell_type": "code",
      "metadata": {
        "id": "1mRPHGNbh2g_",
        "outputId": "062325bb-0024-45e7-d5a0-a7736cb038b8",
        "colab": {
          "base_uri": "https://localhost:8080/"
        }
      },
      "source": [
        "prediction = model(inputs)\n",
        "prediction"
      ],
      "execution_count": 50,
      "outputs": [
        {
          "output_type": "execute_result",
          "data": {
            "text/plain": [
              "<tf.Tensor: shape=(15, 2), dtype=float64, numpy=\n",
              "array([[138.99394601,  81.08952922],\n",
              "       [183.22140242, 102.96227155],\n",
              "       [207.65098809, 105.73683439],\n",
              "       [140.64237135, 102.8771783 ],\n",
              "       [175.93966961,  85.03070397],\n",
              "       [138.99394601,  81.08952922],\n",
              "       [183.22140242, 102.96227155],\n",
              "       [207.65098809, 105.73683439],\n",
              "       [140.64237135, 102.8771783 ],\n",
              "       [175.93966961,  85.03070397],\n",
              "       [138.99394601,  81.08952922],\n",
              "       [183.22140242, 102.96227155],\n",
              "       [207.65098809, 105.73683439],\n",
              "       [140.64237135, 102.8771783 ],\n",
              "       [175.93966961,  85.03070397]])>"
            ]
          },
          "metadata": {},
          "execution_count": 50
        }
      ]
    },
    {
      "cell_type": "code",
      "metadata": {
        "id": "s8jMpfHrh2t0",
        "outputId": "e2622228-5c74-48f0-fcdf-7d1d786fabad",
        "colab": {
          "base_uri": "https://localhost:8080/"
        }
      },
      "source": [
        "def mse(t1,t2):\n",
        "    return tf.reduce_mean(tf.square(t1 - t2))\n",
        "print(mse(prediction,targets))"
      ],
      "execution_count": 51,
      "outputs": [
        {
          "output_type": "stream",
          "name": "stdout",
          "text": [
            "tf.Tensor(5095.623962208768, shape=(), dtype=float64)\n"
          ]
        }
      ]
    },
    {
      "cell_type": "code",
      "metadata": {
        "id": "ZP84qxuHi2yj",
        "outputId": "443bc288-62cf-46b9-de84-c50619ff6da9",
        "colab": {
          "base_uri": "https://localhost:8080/"
        }
      },
      "source": [
        "epochs = 25\n",
        "for epoch_count in range(epochs):\n",
        "    \n",
        "    with tf.GradientTape(persistent=True) as t:\n",
        "        current_loss = mse(targets, model(inputs))\n",
        "\n",
        "    v1 = t.gradient(current_loss,v)\n",
        "    r1 = t.gradient(current_loss,r)\n",
        "\n",
        "    v.assign_sub(1e-4 * v1)\n",
        "    r.assign_sub(1e-4 * r1)\n",
        "        \n",
        "    print(f\"Epoch: {epoch_count} \\n Loss: {current_loss.numpy()} \\n\\n\")"
      ],
      "execution_count": 52,
      "outputs": [
        {
          "output_type": "stream",
          "name": "stdout",
          "text": [
            "Epoch: 0 \n",
            " Loss: 5095.623962208768 \n",
            "\n",
            "\n",
            "Epoch: 1 \n",
            " Loss: 3431.9944122347597 \n",
            "\n",
            "\n",
            "Epoch: 2 \n",
            " Loss: 2362.330724020395 \n",
            "\n",
            "\n",
            "Epoch: 3 \n",
            " Loss: 1667.7761649810186 \n",
            "\n",
            "\n",
            "Epoch: 4 \n",
            " Loss: 1210.9826217407488 \n",
            "\n",
            "\n",
            "Epoch: 5 \n",
            " Loss: 905.6464572422625 \n",
            "\n",
            "\n",
            "Epoch: 6 \n",
            " Loss: 697.4437628483136 \n",
            "\n",
            "\n",
            "Epoch: 7 \n",
            " Loss: 552.0978237633337 \n",
            "\n",
            "\n",
            "Epoch: 8 \n",
            " Loss: 447.90916823159955 \n",
            "\n",
            "\n",
            "Epoch: 9 \n",
            " Loss: 371.0780051602416 \n",
            "\n",
            "\n",
            "Epoch: 10 \n",
            " Loss: 312.7741073581277 \n",
            "\n",
            "\n",
            "Epoch: 11 \n",
            " Loss: 267.30036229713744 \n",
            "\n",
            "\n",
            "Epoch: 12 \n",
            " Loss: 230.94093148083937 \n",
            "\n",
            "\n",
            "Epoch: 13 \n",
            " Loss: 201.23806195059055 \n",
            "\n",
            "\n",
            "Epoch: 14 \n",
            " Loss: 176.53737997164274 \n",
            "\n",
            "\n",
            "Epoch: 15 \n",
            " Loss: 155.70142607223104 \n",
            "\n",
            "\n",
            "Epoch: 16 \n",
            " Loss: 137.9286868334753 \n",
            "\n",
            "\n",
            "Epoch: 17 \n",
            " Loss: 122.63884052824379 \n",
            "\n",
            "\n",
            "Epoch: 18 \n",
            " Loss: 109.39961494855093 \n",
            "\n",
            "\n",
            "Epoch: 19 \n",
            " Loss: 97.8798435293155 \n",
            "\n",
            "\n",
            "Epoch: 20 \n",
            " Loss: 87.81905655207817 \n",
            "\n",
            "\n",
            "Epoch: 21 \n",
            " Loss: 79.00754430783041 \n",
            "\n",
            "\n",
            "Epoch: 22 \n",
            " Loss: 71.273083493172 \n",
            "\n",
            "\n",
            "Epoch: 23 \n",
            " Loss: 64.47193037564624 \n",
            "\n",
            "\n",
            "Epoch: 24 \n",
            " Loss: 58.48256945479234 \n",
            "\n",
            "\n"
          ]
        }
      ]
    },
    {
      "cell_type": "code",
      "metadata": {
        "id": "OzvxZjHci6qD",
        "outputId": "b1391783-d610-484c-8ef6-c162e4a9fd1d",
        "colab": {
          "base_uri": "https://localhost:8080/"
        }
      },
      "source": [
        "model(inputs)"
      ],
      "execution_count": 53,
      "outputs": [
        {
          "output_type": "execute_result",
          "data": {
            "text/plain": [
              "<tf.Tensor: shape=(15, 2), dtype=float64, numpy=\n",
              "array([[ 59.15533018,  72.9252873 ],\n",
              "       [ 82.00180549,  98.24003798],\n",
              "       [114.69082471, 134.29264991],\n",
              "       [ 30.24652018,  51.78793082],\n",
              "       [ 96.969524  , 106.28844511],\n",
              "       [ 59.15533018,  72.9252873 ],\n",
              "       [ 82.00180549,  98.24003798],\n",
              "       [114.69082471, 134.29264991],\n",
              "       [ 30.24652018,  51.78793082],\n",
              "       [ 96.969524  , 106.28844511],\n",
              "       [ 59.15533018,  72.9252873 ],\n",
              "       [ 82.00180549,  98.24003798],\n",
              "       [114.69082471, 134.29264991],\n",
              "       [ 30.24652018,  51.78793082],\n",
              "       [ 96.969524  , 106.28844511]])>"
            ]
          },
          "metadata": {},
          "execution_count": 53
        }
      ]
    }
  ]
}