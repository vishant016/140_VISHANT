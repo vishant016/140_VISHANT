{
  "nbformat": 4,
  "nbformat_minor": 0,
  "metadata": {
    "kernelspec": {
      "display_name": "Python 3",
      "language": "python",
      "name": "python3"
    },
    "language_info": {
      "name": "python",
      "version": "3.6.6",
      "mimetype": "text/x-python",
      "codemirror_mode": {
        "name": "ipython",
        "version": 3
      },
      "pygments_lexer": "ipython3",
      "nbconvert_exporter": "python",
      "file_extension": ".py"
    },
    "colab": {
      "name": "2-linear-regression-pytorch.ipynb",
      "provenance": [],
      "include_colab_link": true
    }
  },
  "cells": [
    {
      "cell_type": "markdown",
      "metadata": {
        "id": "view-in-github",
        "colab_type": "text"
      },
      "source": [
        "<a href=\"https://colab.research.google.com/github/vishant016/140_VISHANT/blob/main/LAB5/2_linear_regression_pytorch.ipynb\" target=\"_parent\"><img src=\"https://colab.research.google.com/assets/colab-badge.svg\" alt=\"Open In Colab\"/></a>"
      ]
    },
    {
      "cell_type": "code",
      "metadata": {
        "_cell_guid": "79c7e3d0-c299-4dcb-8224-4455121ee9b0",
        "_uuid": "d629ff2d2480ee46fbb7e2d37f6b5fab8052498a",
        "trusted": true,
        "id": "v0BtAX1--7l_"
      },
      "source": [
        "# Import Numpy & PyTorch\n",
        "import numpy as np\n",
        "import torch"
      ],
      "execution_count": 1,
      "outputs": []
    },
    {
      "cell_type": "markdown",
      "metadata": {
        "_uuid": "ecc6e79cdfb6a8ca882895ccc895b61b960b0a04",
        "id": "i1HSrBDb-7t9"
      },
      "source": [
        "## Linear Regression Model using PyTorch built-ins\n",
        "\n",
        "Let's re-implement the same model using some built-in functions and classes from PyTorch.\n",
        "\n",
        "And now using two different targets: Apples and Oranges"
      ]
    },
    {
      "cell_type": "code",
      "metadata": {
        "trusted": true,
        "_uuid": "ce66cf0d09a3f38bf2f00ea40418c56d98f1f814",
        "id": "iXiEK54j-7t-"
      },
      "source": [
        "# Imports\n",
        "import torch.nn as nn"
      ],
      "execution_count": 2,
      "outputs": []
    },
    {
      "cell_type": "code",
      "metadata": {
        "trusted": true,
        "_uuid": "74bb18bd01ac809079eeb8d05695206e8ba02069",
        "id": "wCsxgTWO-7uM"
      },
      "source": [
        "# Input (temp, rainfall, humidity)\n",
        "inputs = np.array([[73, 67, 43], [91, 88, 64], [87, 134, 58], [102, 43, 37], [69, 96, 70], [73, 67, 43], [91, 88, 64], [87, 134, 58], [102, 43, 37], [69, 96, 70], [73, 67, 43], [91, 88, 64], [87, 134, 58], [102, 43, 37], [69, 96, 70]], dtype='float32')\n",
        "# Targets (apples, oranges)\n",
        "targets = np.array([[56, 70], [81, 101], [119, 133], [22, 37], [103, 119], \n",
        "                    [56, 70], [81, 101], [119, 133], [22, 37], [103, 119], \n",
        "                    [56, 70], [81, 101], [119, 133], [22, 37], [103, 119]], dtype='float32')"
      ],
      "execution_count": 3,
      "outputs": []
    },
    {
      "cell_type": "code",
      "metadata": {
        "trusted": true,
        "_uuid": "d94b355f55250e9c7dcff668920f02d7c5c04925",
        "id": "nJRlm4-N-7uY"
      },
      "source": [
        "inputs = torch.from_numpy(inputs)\n",
        "targets = torch.from_numpy(targets)"
      ],
      "execution_count": 4,
      "outputs": []
    },
    {
      "cell_type": "markdown",
      "metadata": {
        "_uuid": "a0665466eb5401f40a816b323a34450b2c052c41",
        "id": "O6JT5Ng6-7uj"
      },
      "source": [
        "### Dataset and DataLoader\n",
        "\n",
        "We'll create a `TensorDataset`, which allows access to rows from `inputs` and `targets` as tuples. We'll also create a DataLoader, to split the data into batches while training. It also provides other utilities like shuffling and sampling."
      ]
    },
    {
      "cell_type": "code",
      "metadata": {
        "trusted": true,
        "_uuid": "206f5fd0473386476b23477bf38d2c327b6376c9",
        "id": "iGYdbuWc-7ul"
      },
      "source": [
        "# Import tensor dataset & data loader\n",
        "from torch.utils.data import TensorDataset, DataLoader"
      ],
      "execution_count": 5,
      "outputs": []
    },
    {
      "cell_type": "code",
      "metadata": {
        "trusted": true,
        "_uuid": "c47a4f2f86fda3918094e01cf7ab0698bbb5acc7",
        "id": "LY_cq6Bf-7ux"
      },
      "source": [
        "# Define dataset\n",
        "dataset = torch.utils.data.TensorDataset(inputs,targets)\n"
      ],
      "execution_count": 6,
      "outputs": []
    },
    {
      "cell_type": "code",
      "metadata": {
        "trusted": true,
        "_uuid": "0a2f69126319d738b82ae67d5d404ecd6161bfac",
        "id": "I-_dMpco-7u-"
      },
      "source": [
        "# Define data loader\n",
        "dataloader = torch.utils.data.DataLoader(dataset,batch_size=5)"
      ],
      "execution_count": 7,
      "outputs": []
    },
    {
      "cell_type": "markdown",
      "metadata": {
        "_uuid": "276a262e1b9e3a048bcd32989013f9c501c59037",
        "id": "Dq8gUbVx-7vK"
      },
      "source": [
        "### nn.Linear\n",
        "Instead of initializing the weights & biases manually, we can define the model using `nn.Linear`."
      ]
    },
    {
      "cell_type": "code",
      "metadata": {
        "trusted": true,
        "_uuid": "59da3506559a0640d80d18f77b02726a1757be2f",
        "id": "sKa873ZD-7vN",
        "colab": {
          "base_uri": "https://localhost:8080/"
        },
        "outputId": "a107aaad-a20d-4781-d77f-3d38872e5df4"
      },
      "source": [
        "# Define model\n",
        "model = nn.Linear(inputs.shape[1],targets.shape[1])\n",
        "model.parameters()"
      ],
      "execution_count": 8,
      "outputs": [
        {
          "output_type": "execute_result",
          "data": {
            "text/plain": [
              "<generator object Module.parameters at 0x7f08f1a37ed0>"
            ]
          },
          "metadata": {},
          "execution_count": 8
        }
      ]
    },
    {
      "cell_type": "markdown",
      "metadata": {
        "_uuid": "b3a4a8c499a4680f2533329712de034671dd1cdd",
        "id": "rku14lz3-7vX"
      },
      "source": [
        "### Optimizer\n",
        "Instead of manually manipulating the weights & biases using gradients, we can use the optimizer `optim.SGD`."
      ]
    },
    {
      "cell_type": "code",
      "metadata": {
        "trusted": true,
        "_uuid": "1848398bd1ced8c25a7bb55612cf32a774500280",
        "id": "Yd4H-T8g-7va"
      },
      "source": [
        "# Define optimizer\n",
        "optimizer = torch.optim.SGD(model.parameters(),lr=1e-4)\n"
      ],
      "execution_count": 9,
      "outputs": []
    },
    {
      "cell_type": "markdown",
      "metadata": {
        "_uuid": "28cbe62be55010bd11b31d819cff38da5a772b18",
        "id": "V2ktEA-C-7vl"
      },
      "source": [
        "### Loss Function\n",
        "Instead of defining a loss function manually, we can use the built-in loss function `mse_loss`."
      ]
    },
    {
      "cell_type": "code",
      "metadata": {
        "trusted": true,
        "_uuid": "69d7f4e8e27ccd077f711da27f8bede8aa711893",
        "id": "TF2xmzgO-7vo"
      },
      "source": [
        "# Import nn.functional\n",
        "import torch.nn.functional as F"
      ],
      "execution_count": 10,
      "outputs": []
    },
    {
      "cell_type": "code",
      "metadata": {
        "trusted": true,
        "_uuid": "a02ff888ed4be720fd9ca376022d8fdcf2559683",
        "id": "hSgxvr8N-7vz"
      },
      "source": [
        "# Define loss function\n",
        "loss_fn = F.mse_loss"
      ],
      "execution_count": 11,
      "outputs": []
    },
    {
      "cell_type": "code",
      "metadata": {
        "trusted": true,
        "_uuid": "a540adf76725ea9968025f6c029fdd251bdada6c",
        "id": "9vyVL5io-7wA"
      },
      "source": [
        "#loss = loss_fn(? , ?)\n",
        "#print(loss)"
      ],
      "execution_count": null,
      "outputs": []
    },
    {
      "cell_type": "markdown",
      "metadata": {
        "_uuid": "e833614a69ff18c554a3d89f643ae2f11e0260f6",
        "id": "9jbPdkiO-7wM"
      },
      "source": [
        "### Train the model\n",
        "\n",
        "We are ready to train the model now. We can define a utility function `fit` which trains the model for a given number of epochs."
      ]
    },
    {
      "cell_type": "code",
      "metadata": {
        "trusted": true,
        "_uuid": "128bc7260221f5338edf8b503c75f0c7d1cce7e8",
        "id": "zDnWui7g-7wP"
      },
      "source": [
        "# Define a utility function to train the model\n",
        "def fit(num_epochs, model, loss_fn, opt):\n",
        "   for epoch in range(num_epochs):\n",
        "       for xb,yb in dataloader:\n",
        "            # Generate predictions\n",
        "            pred = model(xb)\n",
        "            loss = loss_fn(yb,pred)\n",
        "            # Perform gradient descent\n",
        "            loss.backward()\n",
        "            opt.step()\n",
        "            opt.zero_grad()\n",
        "       print('Training loss: ', loss_fn(model(inputs), targets))"
      ],
      "execution_count": 22,
      "outputs": []
    },
    {
      "cell_type": "code",
      "metadata": {
        "trusted": true,
        "_uuid": "ae8ca4686cf6a68f6c9ca93bf3d227abe96c2201",
        "id": "Gd8tiT_q-7wa",
        "colab": {
          "base_uri": "https://localhost:8080/"
        },
        "outputId": "d96d2bfc-7a51-48ec-c4fd-350b9e0a1877"
      },
      "source": [
        "\n",
        "# Train the model for 100 epochs\n",
        "fit(120 , model , loss_fn, optimizer)\n",
        "\n"
      ],
      "execution_count": 23,
      "outputs": [
        {
          "output_type": "stream",
          "name": "stdout",
          "text": [
            "Training loss:  tensor(1220.2104, grad_fn=<MseLossBackward>)\n",
            "Training loss:  tensor(555.8185, grad_fn=<MseLossBackward>)\n",
            "Training loss:  tensor(314.6598, grad_fn=<MseLossBackward>)\n",
            "Training loss:  tensor(202.3452, grad_fn=<MseLossBackward>)\n",
            "Training loss:  tensor(138.6223, grad_fn=<MseLossBackward>)\n",
            "Training loss:  tensor(98.3211, grad_fn=<MseLossBackward>)\n",
            "Training loss:  tensor(71.5500, grad_fn=<MseLossBackward>)\n",
            "Training loss:  tensor(53.3683, grad_fn=<MseLossBackward>)\n",
            "Training loss:  tensor(40.8645, grad_fn=<MseLossBackward>)\n",
            "Training loss:  tensor(32.1759, grad_fn=<MseLossBackward>)\n",
            "Training loss:  tensor(26.0695, grad_fn=<MseLossBackward>)\n",
            "Training loss:  tensor(21.7180, grad_fn=<MseLossBackward>)\n",
            "Training loss:  tensor(18.5637, grad_fn=<MseLossBackward>)\n",
            "Training loss:  tensor(16.2294, grad_fn=<MseLossBackward>)\n",
            "Training loss:  tensor(14.4601, grad_fn=<MseLossBackward>)\n",
            "Training loss:  tensor(13.0828, grad_fn=<MseLossBackward>)\n",
            "Training loss:  tensor(11.9803, grad_fn=<MseLossBackward>)\n",
            "Training loss:  tensor(11.0728, grad_fn=<MseLossBackward>)\n",
            "Training loss:  tensor(10.3059, grad_fn=<MseLossBackward>)\n",
            "Training loss:  tensor(9.6423, grad_fn=<MseLossBackward>)\n",
            "Training loss:  tensor(9.0565, grad_fn=<MseLossBackward>)\n",
            "Training loss:  tensor(8.5307, grad_fn=<MseLossBackward>)\n",
            "Training loss:  tensor(8.0526, grad_fn=<MseLossBackward>)\n",
            "Training loss:  tensor(7.6135, grad_fn=<MseLossBackward>)\n",
            "Training loss:  tensor(7.2070, grad_fn=<MseLossBackward>)\n",
            "Training loss:  tensor(6.8286, grad_fn=<MseLossBackward>)\n",
            "Training loss:  tensor(6.4748, grad_fn=<MseLossBackward>)\n",
            "Training loss:  tensor(6.1430, grad_fn=<MseLossBackward>)\n",
            "Training loss:  tensor(5.8312, grad_fn=<MseLossBackward>)\n",
            "Training loss:  tensor(5.5376, grad_fn=<MseLossBackward>)\n",
            "Training loss:  tensor(5.2610, grad_fn=<MseLossBackward>)\n",
            "Training loss:  tensor(5.0000, grad_fn=<MseLossBackward>)\n",
            "Training loss:  tensor(4.7536, grad_fn=<MseLossBackward>)\n",
            "Training loss:  tensor(4.5210, grad_fn=<MseLossBackward>)\n",
            "Training loss:  tensor(4.3013, grad_fn=<MseLossBackward>)\n",
            "Training loss:  tensor(4.0938, grad_fn=<MseLossBackward>)\n",
            "Training loss:  tensor(3.8976, grad_fn=<MseLossBackward>)\n",
            "Training loss:  tensor(3.7123, grad_fn=<MseLossBackward>)\n",
            "Training loss:  tensor(3.5371, grad_fn=<MseLossBackward>)\n",
            "Training loss:  tensor(3.3716, grad_fn=<MseLossBackward>)\n",
            "Training loss:  tensor(3.2151, grad_fn=<MseLossBackward>)\n",
            "Training loss:  tensor(3.0672, grad_fn=<MseLossBackward>)\n",
            "Training loss:  tensor(2.9273, grad_fn=<MseLossBackward>)\n",
            "Training loss:  tensor(2.7952, grad_fn=<MseLossBackward>)\n",
            "Training loss:  tensor(2.6703, grad_fn=<MseLossBackward>)\n",
            "Training loss:  tensor(2.5522, grad_fn=<MseLossBackward>)\n",
            "Training loss:  tensor(2.4406, grad_fn=<MseLossBackward>)\n",
            "Training loss:  tensor(2.3350, grad_fn=<MseLossBackward>)\n",
            "Training loss:  tensor(2.2353, grad_fn=<MseLossBackward>)\n",
            "Training loss:  tensor(2.1410, grad_fn=<MseLossBackward>)\n",
            "Training loss:  tensor(2.0519, grad_fn=<MseLossBackward>)\n",
            "Training loss:  tensor(1.9676, grad_fn=<MseLossBackward>)\n",
            "Training loss:  tensor(1.8880, grad_fn=<MseLossBackward>)\n",
            "Training loss:  tensor(1.8127, grad_fn=<MseLossBackward>)\n",
            "Training loss:  tensor(1.7416, grad_fn=<MseLossBackward>)\n",
            "Training loss:  tensor(1.6743, grad_fn=<MseLossBackward>)\n",
            "Training loss:  tensor(1.6107, grad_fn=<MseLossBackward>)\n",
            "Training loss:  tensor(1.5506, grad_fn=<MseLossBackward>)\n",
            "Training loss:  tensor(1.4938, grad_fn=<MseLossBackward>)\n",
            "Training loss:  tensor(1.4401, grad_fn=<MseLossBackward>)\n",
            "Training loss:  tensor(1.3893, grad_fn=<MseLossBackward>)\n",
            "Training loss:  tensor(1.3413, grad_fn=<MseLossBackward>)\n",
            "Training loss:  tensor(1.2960, grad_fn=<MseLossBackward>)\n",
            "Training loss:  tensor(1.2531, grad_fn=<MseLossBackward>)\n",
            "Training loss:  tensor(1.2125, grad_fn=<MseLossBackward>)\n",
            "Training loss:  tensor(1.1742, grad_fn=<MseLossBackward>)\n",
            "Training loss:  tensor(1.1380, grad_fn=<MseLossBackward>)\n",
            "Training loss:  tensor(1.1038, grad_fn=<MseLossBackward>)\n",
            "Training loss:  tensor(1.0714, grad_fn=<MseLossBackward>)\n",
            "Training loss:  tensor(1.0408, grad_fn=<MseLossBackward>)\n",
            "Training loss:  tensor(1.0119, grad_fn=<MseLossBackward>)\n",
            "Training loss:  tensor(0.9845, grad_fn=<MseLossBackward>)\n",
            "Training loss:  tensor(0.9587, grad_fn=<MseLossBackward>)\n",
            "Training loss:  tensor(0.9343, grad_fn=<MseLossBackward>)\n",
            "Training loss:  tensor(0.9112, grad_fn=<MseLossBackward>)\n",
            "Training loss:  tensor(0.8893, grad_fn=<MseLossBackward>)\n",
            "Training loss:  tensor(0.8687, grad_fn=<MseLossBackward>)\n",
            "Training loss:  tensor(0.8492, grad_fn=<MseLossBackward>)\n",
            "Training loss:  tensor(0.8308, grad_fn=<MseLossBackward>)\n",
            "Training loss:  tensor(0.8133, grad_fn=<MseLossBackward>)\n",
            "Training loss:  tensor(0.7969, grad_fn=<MseLossBackward>)\n",
            "Training loss:  tensor(0.7813, grad_fn=<MseLossBackward>)\n",
            "Training loss:  tensor(0.7666, grad_fn=<MseLossBackward>)\n",
            "Training loss:  tensor(0.7526, grad_fn=<MseLossBackward>)\n",
            "Training loss:  tensor(0.7395, grad_fn=<MseLossBackward>)\n",
            "Training loss:  tensor(0.7271, grad_fn=<MseLossBackward>)\n",
            "Training loss:  tensor(0.7153, grad_fn=<MseLossBackward>)\n",
            "Training loss:  tensor(0.7042, grad_fn=<MseLossBackward>)\n",
            "Training loss:  tensor(0.6937, grad_fn=<MseLossBackward>)\n",
            "Training loss:  tensor(0.6838, grad_fn=<MseLossBackward>)\n",
            "Training loss:  tensor(0.6744, grad_fn=<MseLossBackward>)\n",
            "Training loss:  tensor(0.6655, grad_fn=<MseLossBackward>)\n",
            "Training loss:  tensor(0.6571, grad_fn=<MseLossBackward>)\n",
            "Training loss:  tensor(0.6492, grad_fn=<MseLossBackward>)\n",
            "Training loss:  tensor(0.6417, grad_fn=<MseLossBackward>)\n",
            "Training loss:  tensor(0.6346, grad_fn=<MseLossBackward>)\n",
            "Training loss:  tensor(0.6279, grad_fn=<MseLossBackward>)\n",
            "Training loss:  tensor(0.6216, grad_fn=<MseLossBackward>)\n",
            "Training loss:  tensor(0.6156, grad_fn=<MseLossBackward>)\n",
            "Training loss:  tensor(0.6099, grad_fn=<MseLossBackward>)\n",
            "Training loss:  tensor(0.6046, grad_fn=<MseLossBackward>)\n",
            "Training loss:  tensor(0.5995, grad_fn=<MseLossBackward>)\n",
            "Training loss:  tensor(0.5948, grad_fn=<MseLossBackward>)\n",
            "Training loss:  tensor(0.5902, grad_fn=<MseLossBackward>)\n",
            "Training loss:  tensor(0.5860, grad_fn=<MseLossBackward>)\n",
            "Training loss:  tensor(0.5819, grad_fn=<MseLossBackward>)\n",
            "Training loss:  tensor(0.5781, grad_fn=<MseLossBackward>)\n",
            "Training loss:  tensor(0.5745, grad_fn=<MseLossBackward>)\n",
            "Training loss:  tensor(0.5711, grad_fn=<MseLossBackward>)\n",
            "Training loss:  tensor(0.5679, grad_fn=<MseLossBackward>)\n",
            "Training loss:  tensor(0.5648, grad_fn=<MseLossBackward>)\n",
            "Training loss:  tensor(0.5620, grad_fn=<MseLossBackward>)\n",
            "Training loss:  tensor(0.5592, grad_fn=<MseLossBackward>)\n",
            "Training loss:  tensor(0.5567, grad_fn=<MseLossBackward>)\n",
            "Training loss:  tensor(0.5542, grad_fn=<MseLossBackward>)\n",
            "Training loss:  tensor(0.5519, grad_fn=<MseLossBackward>)\n",
            "Training loss:  tensor(0.5498, grad_fn=<MseLossBackward>)\n",
            "Training loss:  tensor(0.5477, grad_fn=<MseLossBackward>)\n",
            "Training loss:  tensor(0.5458, grad_fn=<MseLossBackward>)\n",
            "Training loss:  tensor(0.5439, grad_fn=<MseLossBackward>)\n"
          ]
        }
      ]
    },
    {
      "cell_type": "code",
      "metadata": {
        "trusted": true,
        "_uuid": "32588a47d0478772a1f08fa55874a322630bd0b6",
        "id": "c3Bf-Emn-7wj",
        "colab": {
          "base_uri": "https://localhost:8080/"
        },
        "outputId": "c3311a88-d0f4-4bb3-d41e-37d3e2a03594"
      },
      "source": [
        "# Generate predictions\n",
        "#preds = model(?)\n",
        "#preds\n",
        "preds = model(inputs)\n",
        "preds"
      ],
      "execution_count": 24,
      "outputs": [
        {
          "output_type": "execute_result",
          "data": {
            "text/plain": [
              "tensor([[ 57.2301,  70.2502],\n",
              "        [ 82.1557, 100.5431],\n",
              "        [118.7064, 133.3408],\n",
              "        [ 21.0801,  37.1288],\n",
              "        [101.9070, 118.7562],\n",
              "        [ 57.2301,  70.2502],\n",
              "        [ 82.1557, 100.5431],\n",
              "        [118.7064, 133.3408],\n",
              "        [ 21.0801,  37.1288],\n",
              "        [101.9070, 118.7562],\n",
              "        [ 57.2301,  70.2502],\n",
              "        [ 82.1557, 100.5431],\n",
              "        [118.7064, 133.3408],\n",
              "        [ 21.0801,  37.1288],\n",
              "        [101.9070, 118.7562]], grad_fn=<AddmmBackward>)"
            ]
          },
          "metadata": {},
          "execution_count": 24
        }
      ]
    },
    {
      "cell_type": "code",
      "metadata": {
        "trusted": true,
        "_uuid": "12d757c0f37c2e3af65cf9d4b59878cc10c65acf",
        "id": "_gDGmiHl-7wr",
        "colab": {
          "base_uri": "https://localhost:8080/"
        },
        "outputId": "b6d79cf6-322c-4a6c-9ae0-fd9c75992142"
      },
      "source": [
        "# Compare with targets\n",
        "targets"
      ],
      "execution_count": 25,
      "outputs": [
        {
          "output_type": "execute_result",
          "data": {
            "text/plain": [
              "tensor([[ 56.,  70.],\n",
              "        [ 81., 101.],\n",
              "        [119., 133.],\n",
              "        [ 22.,  37.],\n",
              "        [103., 119.],\n",
              "        [ 56.,  70.],\n",
              "        [ 81., 101.],\n",
              "        [119., 133.],\n",
              "        [ 22.,  37.],\n",
              "        [103., 119.],\n",
              "        [ 56.,  70.],\n",
              "        [ 81., 101.],\n",
              "        [119., 133.],\n",
              "        [ 22.,  37.],\n",
              "        [103., 119.]])"
            ]
          },
          "metadata": {},
          "execution_count": 25
        }
      ]
    },
    {
      "cell_type": "markdown",
      "metadata": {
        "_uuid": "2448d9832722f4f2813f8bd80b91daefd901dc2e",
        "id": "b9nvUidI-7xD"
      },
      "source": [
        "Now we can define the model, optimizer and loss function exactly as before."
      ]
    },
    {
      "cell_type": "markdown",
      "metadata": {
        "id": "eAyCq48TMlWJ"
      },
      "source": [
        "#Exercise 1:\n",
        " Try Linear Regression just using numpy (Without Tensorflow/Pytorch or other torch library). You can optionally use sklearn (if you want)\n",
        "#Exercise 2:\n",
        " Try Linear regression on same prediction data using Tensorflow\n",
        "\n",
        " "
      ]
    },
    {
      "cell_type": "code",
      "metadata": {
        "id": "n6ZG5jS8wxrp"
      },
      "source": [
        "from sklearn.linear_model import LinearRegression\n",
        "\n",
        "model = LinearRegression()"
      ],
      "execution_count": 26,
      "outputs": []
    },
    {
      "cell_type": "code",
      "metadata": {
        "id": "9t-NRk8PwyqC"
      },
      "source": [
        "from sklearn.model_selection import train_test_split\n",
        "\n",
        "X_train,X_test,Y_train,Y_test = train_test_split(inputs,targets,test_size=0.5,random_state=140)"
      ],
      "execution_count": 27,
      "outputs": []
    },
    {
      "cell_type": "code",
      "metadata": {
        "colab": {
          "base_uri": "https://localhost:8080/"
        },
        "id": "socCuG-8w55W",
        "outputId": "274d63ad-4015-40f7-e8d7-83f1c4ba93b5"
      },
      "source": [
        "model.fit(X_train,Y_train)\n",
        "predictions = model.predict(X_test)\n",
        "predictions"
      ],
      "execution_count": 28,
      "outputs": [
        {
          "output_type": "execute_result",
          "data": {
            "text/plain": [
              "array([[ 98.71938 , 119.30003 ],\n",
              "       [119.      , 133.      ],\n",
              "       [ 98.71938 , 119.30003 ],\n",
              "       [ 81.      , 101.      ],\n",
              "       [119.      , 133.      ],\n",
              "       [ 56.000008,  70.      ],\n",
              "       [ 98.71938 , 119.30003 ],\n",
              "       [ 81.      , 101.      ]], dtype=float32)"
            ]
          },
          "metadata": {},
          "execution_count": 28
        }
      ]
    },
    {
      "cell_type": "code",
      "metadata": {
        "colab": {
          "base_uri": "https://localhost:8080/"
        },
        "id": "7ktunTanw_V_",
        "outputId": "90979dca-797d-4652-c530-b2796e28009d"
      },
      "source": [
        "Y_test"
      ],
      "execution_count": 29,
      "outputs": [
        {
          "output_type": "execute_result",
          "data": {
            "text/plain": [
              "tensor([[103., 119.],\n",
              "        [119., 133.],\n",
              "        [103., 119.],\n",
              "        [ 81., 101.],\n",
              "        [119., 133.],\n",
              "        [ 56.,  70.],\n",
              "        [103., 119.],\n",
              "        [ 81., 101.]])"
            ]
          },
          "metadata": {},
          "execution_count": 29
        }
      ]
    },
    {
      "cell_type": "code",
      "metadata": {
        "colab": {
          "base_uri": "https://localhost:8080/"
        },
        "id": "QBGLJ-sYxCKk",
        "outputId": "20a7259b-d25c-410b-8ae3-48535450461b"
      },
      "source": [
        "from sklearn.metrics import mean_squared_error\n",
        "\n",
        "print(mean_squared_error(Y_test,predictions))"
      ],
      "execution_count": 30,
      "outputs": [
        {
          "output_type": "stream",
          "name": "stdout",
          "text": [
            "3.4525688\n"
          ]
        }
      ]
    },
    {
      "cell_type": "code",
      "metadata": {
        "id": "CIzi9J9VxIng"
      },
      "source": [
        "import tensorflow as tf\n",
        "\n",
        "inputs = np.array([[73, 67, 43], [91, 88, 64], [87, 134, 58], [102, 43, 37], [69, 96, 70], [73, 67, 43], [91, 88, 64], [87, 134, 58], [102, 43, 37], [69, 96, 70], [73, 67, 43], [91, 88, 64], [87, 134, 58], [102, 43, 37], [69, 96, 70]], dtype='float32')\n",
        "# Targets (apples, oranges)\n",
        "targets = np.array([[56, 70], [81, 101], [119, 133], [22, 37], [103, 119], \n",
        "                    [56, 70], [81, 101], [119, 133], [22, 37], [103, 119], \n",
        "                    [56, 70], [81, 101], [119, 133], [22, 37], [103, 119]], dtype='float32')\n",
        "\n",
        "X_train,X_test,Y_train,Y_test = train_test_split(inputs,targets,test_size=0.5,random_state=140)"
      ],
      "execution_count": 31,
      "outputs": []
    },
    {
      "cell_type": "code",
      "metadata": {
        "id": "XLEoIaMhxL4V"
      },
      "source": [
        "model = tf.keras.Sequential()\n",
        "model.compile(loss=\"mean_squared_error\")"
      ],
      "execution_count": 33,
      "outputs": []
    }
  ]
}